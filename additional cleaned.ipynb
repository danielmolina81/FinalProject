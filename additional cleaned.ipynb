{
 "cells": [
  {
   "cell_type": "code",
   "execution_count": 7,
   "metadata": {},
   "outputs": [],
   "source": [
    "import pandas as pd\n",
    "from pathlib import Path \n",
    "import sqlite3\n",
    "\n",
    "# Load the CSV files\n",
    "population_df = pd.read_csv('Resources/Population.csv')\n",
    "happinessindex_df = pd.read_csv('Resources/HappinessIndex.csv')\n",
    "unemployment_rate_df = pd.read_csv('Resources/Unemployment_rate.csv')\n",
    "gini_index_df = pd.read_csv('Resources/Gini Index coefficient - distribution of family income.csv')\n",
    "median_age_df = pd.read_csv('Resources/Median age.csv')\n",
    "# Load the Excel file for temperature data\n",
    "avg_temp_df = pd.read_excel('Resources/Avg_Temperature.xlsx')"
   ]
  },
  {
   "cell_type": "code",
   "execution_count": 8,
   "metadata": {},
   "outputs": [],
   "source": [
    "\n",
    "# Rename columns \n",
    "population_df.rename(columns={'name': 'Country', 'value': 'Population', 'region': 'Region'}, inplace=True)\n",
    "happinessindex_df.rename(columns={'Country name': 'Country', 'Ladder score': 'Ladder score'}, inplace=True)\n",
    "unemployment_rate_df.rename(columns={'name': 'Country', 'ranking': 'Ranking_unemployment', 'region': 'Region'}, inplace=True)\n",
    "gini_index_df.rename(columns={'name': 'Country', 'region': 'Region'}, inplace=True)\n",
    "median_age_df.rename(columns={'name': 'Country', 'ranking': 'Ranking_median_age', 'region': 'Region'}, inplace=True)\n",
    "avg_temp_df.rename(columns={'name': 'Country', 'Average Temperature': 'Average Temperature'}, inplace=True)\n"
   ]
  },
  {
   "cell_type": "code",
   "execution_count": null,
   "metadata": {},
   "outputs": [],
   "source": []
  },
  {
   "cell_type": "code",
   "execution_count": 9,
   "metadata": {},
   "outputs": [],
   "source": [
    "\n",
    "# Remove leading/trailing spaces from 'Country' column in all DataFrames\n",
    "dataframes = [population_df, happinessindex_df, unemployment_rate_df, gini_index_df, median_age_df, avg_temp_df]\n",
    "for df in dataframes:\n",
    "    df['Country'] = df['Country'].str.strip()"
   ]
  },
  {
   "cell_type": "code",
   "execution_count": 10,
   "metadata": {},
   "outputs": [],
   "source": [
    "\n",
    "# Convert 'Average Temperature' to numeric, coercing errors to NaN\n",
    "avg_temp_df['Average Temperature'] = pd.to_numeric(avg_temp_df['Average Temperature'], errors='coerce')"
   ]
  },
  {
   "cell_type": "code",
   "execution_count": 11,
   "metadata": {},
   "outputs": [
    {
     "name": "stdout",
     "output_type": "stream",
     "text": [
      "NaN values in 'Country' column of Country: 0\n",
      "NaN values in 'Country' column of Country: 0\n",
      "NaN values in 'Country' column of Country: 0\n",
      "NaN values in 'Country' column of Country: 0\n",
      "NaN values in 'Country' column of Country: 0\n",
      "NaN values in 'Country' column of Country: 0\n"
     ]
    }
   ],
   "source": [
    "\n",
    "# Debugging: Check for NaN values in 'Country' columns\n",
    "for df in dataframes:\n",
    "    print(f\"NaN values in 'Country' column of {df.columns[0]}: {df['Country'].isna().sum()}\")\n"
   ]
  },
  {
   "cell_type": "code",
   "execution_count": 12,
   "metadata": {},
   "outputs": [],
   "source": [
    "# Merge DataFrames and include 'Region' from gini_index_df, median_age_df, population_df, and unemployment_rate_df\n",
    "merged_df = pd.merge(happinessindex_df, population_df[['Country', 'Population', 'Region']], on='Country', how='left')\n",
    "\n",
    "merged_df = pd.merge(merged_df, unemployment_rate_df[['Country', 'Ranking_unemployment', 'Region']], on='Country', how='left', suffixes=('', '_unemployment'))\n",
    "\n",
    "merged_df = pd.merge(merged_df, gini_index_df[['Country', 'Region']], on='Country', how='left', suffixes=('', '_gini'))\n",
    "\n",
    "merged_df = pd.merge(merged_df, median_age_df[['Country', 'Ranking_median_age', 'Region']], on='Country', how='left', suffixes=('', '_median_age'))\n",
    "\n",
    "merged_df = pd.merge(merged_df, avg_temp_df, on='Country', how='left', suffixes=('', '_avg_temp'))\n"
   ]
  },
  {
   "cell_type": "code",
   "execution_count": 13,
   "metadata": {},
   "outputs": [],
   "source": [
    "\n",
    "# Drop any duplicate columns\n",
    "merged_df['Region'] = merged_df.apply(lambda row: row['Region'] if pd.notnull(row['Region']) else row['Region_unemployment'] if pd.notnull(row['Region_unemployment']) else row['Region_gini'] if pd.notnull(row['Region_gini']) else row['Region_median_age'], axis=1)\n",
    "merged_df = merged_df.drop(columns=['Region_unemployment', 'Region_gini', 'Region_median_age'])\n"
   ]
  },
  {
   "cell_type": "code",
   "execution_count": 14,
   "metadata": {},
   "outputs": [],
   "source": [
    "if 'Average Temperature' in merged_df.columns:\n",
    "    merged_df['Average Temperature'] = merged_df['Average Temperature'].astype(str)\n",
    "    merged_df['Average Temperature'] = merged_df['Average Temperature'].replace('nan', 'n/a')"
   ]
  },
  {
   "cell_type": "code",
   "execution_count": 15,
   "metadata": {},
   "outputs": [],
   "source": [
    "\n",
    "# Fill any other NaN values with 'n/a', excluding 'Average Temperature'\n",
    "other_columns = merged_df.columns.difference(['Average Temperature'])\n",
    "merged_df[other_columns] = merged_df[other_columns].fillna('n/a')\n"
   ]
  },
  {
   "cell_type": "code",
   "execution_count": 16,
   "metadata": {},
   "outputs": [],
   "source": [
    "\n",
    "columns_to_keep = [\n",
    "    'Country', \n",
    "    'Region',\n",
    "    'Ladder score',\n",
    "    'Logged GDP per capita', \n",
    "    'Social support', \n",
    "    'Healthy life expectancy', \n",
    "    'Freedom to make life choices', \n",
    "    'Generosity', \n",
    "    'Perceptions of corruption', \n",
    "    'Population',  \n",
    "    'Ranking_unemployment',  \n",
    "    'Ranking_median_age',  \n",
    "    'Average Temperature'\n",
    "]\n",
    "\n",
    "missing_cols = [col for col in columns_to_keep if col not in merged_df.columns]\n",
    "if missing_cols:\n",
    "    print(f\"Warning: Column(s) {missing_cols} are missing from the DataFrame.\")\n"
   ]
  },
  {
   "cell_type": "code",
   "execution_count": 17,
   "metadata": {},
   "outputs": [],
   "source": [
    "# Ensure all columns to keep exist in the dataframe before selecting them\n",
    "existing_columns_to_keep = [col for col in columns_to_keep if col in merged_df.columns]\n",
    "\n",
    "cleaned_df = merged_df[existing_columns_to_keep]\n",
    "\n",
    "cleaned_df.to_csv('final_output.csv', index=False)\n"
   ]
  }
 ],
 "metadata": {
  "kernelspec": {
   "display_name": "inclassfeb2024",
   "language": "python",
   "name": "python3"
  },
  "language_info": {
   "codemirror_mode": {
    "name": "ipython",
    "version": 3
   },
   "file_extension": ".py",
   "mimetype": "text/x-python",
   "name": "python",
   "nbconvert_exporter": "python",
   "pygments_lexer": "ipython3",
   "version": "3.10.0"
  }
 },
 "nbformat": 4,
 "nbformat_minor": 2
}
