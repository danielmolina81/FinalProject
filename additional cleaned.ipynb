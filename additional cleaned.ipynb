{
 "cells": [
  {
   "cell_type": "code",
   "execution_count": null,
   "metadata": {},
   "outputs": [],
   "source": [
    "# conn = sqlite3.connect('Resources/HappinessIndexScore.sqlite')\n",
    "# cleaned_data_df.to_sql('final_output', conn, if_exists='replace', index=False)\n",
    "# conn.close()\n",
    "\n",
    "#sqllite connection rough idea right now"
   ]
  },
  {
   "cell_type": "code",
   "execution_count": null,
   "metadata": {},
   "outputs": [],
   "source": [
    "# happiness_Path = Path('Resources/LA_crime.sqlite')\n",
    "# engine = create_engine(f'sqlite:///{LA_crime_path}')\n",
    "# conn = engine.connect()\n",
    "\n"
   ]
  },
  {
   "cell_type": "code",
   "execution_count": null,
   "metadata": {},
   "outputs": [],
   "source": [
    "# Load the CSV files\n",
    "population_df = pd.read_csv('Resources/Population.csv')\n",
    "happinessindex_df = pd.read_csv('Resources/HappinessIndex.csv')\n",
    "unemployment_rate_df = pd.read_csv('Resources/Unemployment_rate.csv')\n",
    "gini_index_df = pd.read_csv('Resources/Gini Index coefficient - distribution of family income.csv')\n",
    "median_age_df = pd.read_csv('Resources/Median age.csv')\n",
    "# Load the Excel file for temperature data\n",
    "avg_temp_df = pd.read_excel('Resources/Avg_Temperature.xlsx')\n",
    "alc_df = pd.read_csv('Resources/alcohol consumption per capita.csv')"
   ]
  },
  {
   "cell_type": "code",
   "execution_count": null,
   "metadata": {},
   "outputs": [],
   "source": [
    "# Strip leading/trailing spaces from all column names\n",
    "dataframes = [population_df, happinessindex_df, unemployment_rate_df, gini_index_df, median_age_df, avg_temp_df, alc_df]\n",
    "for df in dataframes:\n",
    "    df.columns = df.columns.str.strip()"
   ]
  },
  {
   "cell_type": "code",
   "execution_count": null,
   "metadata": {},
   "outputs": [],
   "source": [
    "# Rename columns\n",
    "population_df.rename(columns={'name': 'Country', 'value': 'Population', 'region': 'Region'}, inplace=True)\n",
    "happinessindex_df.rename(columns={'Country name': 'Country', 'Ladder score': 'Ladder score'}, inplace=True)\n",
    "unemployment_rate_df.rename(columns={'name': 'Country', 'ranking': 'Ranking_unemployment', 'region': 'Region'}, inplace=True)\n",
    "gini_index_df.rename(columns={'name': 'Country', 'region': 'Region', 'value': 'Gini coefficient'}, inplace=True)\n",
    "median_age_df.rename(columns={'name': 'Country', 'ranking': 'Ranking_median_age', 'region': 'Region'}, inplace=True)\n",
    "avg_temp_df.rename(columns={'name': 'Country', 'Average Temperature': 'Average Temperature'}, inplace=True)\n",
    "alc_df.rename(columns={'name': 'Country', 'liters of pure alcohol': 'Liters of pure alcohol'}, inplace=True)"
   ]
  },
  {
   "cell_type": "code",
   "execution_count": null,
   "metadata": {},
   "outputs": [],
   "source": [
    "# Remove leading/trailing spaces from 'Country' column in all DataFrames\n",
    "for df in dataframes:\n",
    "    df['Country'] = df['Country'].str.strip()"
   ]
  },
  {
   "cell_type": "code",
   "execution_count": null,
   "metadata": {},
   "outputs": [],
   "source": [
    "# Convert 'Average Temperature' to numeric, coercing errors to NaN\n",
    "avg_temp_df['Average Temperature'] = pd.to_numeric(avg_temp_df['Average Temperature'], errors='coerce')"
   ]
  },
  {
   "cell_type": "code",
   "execution_count": null,
   "metadata": {},
   "outputs": [],
   "source": [
    "# Debugging: Check for NaN values in 'Country' columns\n",
    "for df in dataframes:\n",
    "    print(f\"NaN values in 'Country' column of {df.columns[0]}: {df['Country'].isna().sum()}\")"
   ]
  },
  {
   "cell_type": "code",
   "execution_count": null,
   "metadata": {},
   "outputs": [],
   "source": [
    "# Check unique country names in each dataset\n",
    "print(\"\\nUnique country names in Happiness Index data:\")\n",
    "print(happinessindex_df['Country'].unique())\n",
    "print(\"\\nUnique country names in Temperature data:\")\n",
    "print(avg_temp_df['Country'].unique())\n",
    "print(\"\\nUnique country names in Alcohol Consumption data:\")\n",
    "print(alc_df['Country'].unique())\n",
    "\n",
    "# Merge DataFrames and include 'Region' from gini_index_df, median_age_df, population_df, and unemployment_rate_df\n",
    "merged_df = pd.merge(happinessindex_df, population_df[['Country', 'Population', 'Region']], on='Country', how='left')\n",
    "\n",
    "merged_df = pd.merge(merged_df, unemployment_rate_df[['Country', 'Ranking_unemployment', 'Region']], on='Country', how='left', suffixes=('', '_unemployment'))\n",
    "\n",
    "merged_df = pd.merge(merged_df, gini_index_df[['Country', 'Gini coefficient', 'Region']], on='Country', how='left', suffixes=('', '_gini'))\n",
    "\n",
    "merged_df = pd.merge(merged_df, median_age_df[['Country', 'Ranking_median_age', 'Region']], on='Country', how='left', suffixes=('', '_median_age'))\n",
    "\n",
    "merged_df = pd.merge(merged_df, avg_temp_df, on='Country', how='left', suffixes=('', '_avg_temp'))\n",
    "\n",
    "merged_df = pd.merge(merged_df, alc_df, on='Country', how='left', suffixes=('', '_alc_df'))\n"
   ]
  },
  {
   "cell_type": "code",
   "execution_count": null,
   "metadata": {},
   "outputs": [],
   "source": [
    "# Drop any duplicate columns, prioritize non-null regions\n",
    "merged_df['Region'] = merged_df.apply(lambda row: row['Region'] if pd.notnull(row['Region']) else row['Region_unemployment'] if pd.notnull(row['Region_unemployment']) else row['Region_gini'] if pd.notnull(row['Region_gini']) else row['Region_median_age'], axis=1)\n",
    "merged_df = merged_df.drop(columns=['Region_unemployment', 'Region_gini', 'Region_median_age'])"
   ]
  },
  {
   "cell_type": "code",
   "execution_count": null,
   "metadata": {},
   "outputs": [],
   "source": [
    "\n",
    "# Handle 'Average Temperature' separately\n",
    "print(\"\\nColumns in merged DataFrame:\")\n",
    "print(merged_df.columns)\n"
   ]
  },
  {
   "cell_type": "code",
   "execution_count": null,
   "metadata": {},
   "outputs": [],
   "source": [
    "\n",
    "# Fill any other NaN values with 'n/a', excluding 'Average Temperature'\n",
    "other_columns = merged_df.columns.difference(['Average Temperature'])\n",
    "merged_df[other_columns] = merged_df[other_columns].fillna('n/a')"
   ]
  },
  {
   "cell_type": "code",
   "execution_count": 67,
   "metadata": {},
   "outputs": [],
   "source": [
    "# Check what to keep\n",
    "columns_to_keep = [\n",
    "    'Country', \n",
    "    'Region',\n",
    "    'Ladder score',\n",
    "    'Logged GDP per capita', \n",
    "    'Social support', \n",
    "    'Healthy life expectancy', \n",
    "    'Freedom to make life choices', \n",
    "    'Generosity', \n",
    "    'Perceptions of corruption', \n",
    "    'Population',  \n",
    "    'Ranking_unemployment',  \n",
    "    'Ranking_median_age',  \n",
    "    'Gini coefficient',\n",
    "    'Average Temperature',\n",
    "    'Liters of pure alcohol'\n",
    "]\n",
    "\n",
    "missing_cols = [col for col in columns_to_keep if col not in merged_df.columns]\n",
    "if missing_cols:\n",
    "    print(f\"Warning: Column(s) {missing_cols} are missing from the DataFrame.\")\n",
    "\n",
    "# final check before making csv\n",
    "existing_columns_to_keep = [col for col in columns_to_keep if col in merged_df.columns]\n",
    "\n",
    "cleaned_df = merged_df[existing_columns_to_keep]\n",
    "\n",
    "# Remove rows with 'n/a' in any cell\n",
    "cleaned_df = cleaned_df.replace('n/a', pd.NA).dropna()\n",
    "\n",
    "cleaned_df.to_csv('Resources/final_output.csv', index=False)\n"
   ]
  }
 ],
 "metadata": {
  "kernelspec": {
   "display_name": "inclassfeb2024",
   "language": "python",
   "name": "python3"
  },
  "language_info": {
   "codemirror_mode": {
    "name": "ipython",
    "version": 3
   },
   "file_extension": ".py",
   "mimetype": "text/x-python",
   "name": "python",
   "nbconvert_exporter": "python",
   "pygments_lexer": "ipython3",
   "version": "3.10.0"
  }
 },
 "nbformat": 4,
 "nbformat_minor": 2
}
