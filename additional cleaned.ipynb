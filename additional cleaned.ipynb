{
 "cells": [
  {
   "cell_type": "code",
   "execution_count": 3,
   "metadata": {},
   "outputs": [],
   "source": [
    "import pandas as pd\n",
    "import sqlite3\n",
    "from pathlib import Path\n",
    "from sqlalchemy import create_engine"
   ]
  },
  {
   "cell_type": "code",
   "execution_count": 4,
   "metadata": {},
   "outputs": [],
   "source": [
    "# Load the CSV files\n",
    "population_df = pd.read_csv('Resources/Population.csv')\n",
    "happinessindex_df = pd.read_csv('Resources/HappinessIndex.csv')\n",
    "unemployment_rate_df = pd.read_csv('Resources/Unemployment_rate.csv')\n",
    "gini_index_df = pd.read_csv('Resources/Gini Index coefficient - distribution of family income.csv')\n",
    "median_age_df = pd.read_csv('Resources/Median age.csv')\n",
    "# Load the Excel file for temperature data\n",
    "avg_temp_df = pd.read_excel('Resources/Avg_Temperature.xlsx')\n",
    "alc_df = pd.read_csv('Resources/alcohol consumption per capita.csv')"
   ]
  },
  {
   "cell_type": "code",
   "execution_count": 5,
   "metadata": {},
   "outputs": [],
   "source": [
    "# Strip leading/trailing spaces from all column names\n",
    "dataframes = [population_df, happinessindex_df, unemployment_rate_df, gini_index_df, median_age_df, avg_temp_df, alc_df]\n",
    "for df in dataframes:\n",
    "    df.columns = df.columns.str.strip()"
   ]
  },
  {
   "cell_type": "code",
   "execution_count": 6,
   "metadata": {},
   "outputs": [],
   "source": [
    "# Rename columns\n",
    "population_df.rename(columns={'name': 'Country', 'value': 'Population', 'region': 'Region'}, inplace=True)\n",
    "happinessindex_df.rename(columns={'Country name': 'Country', 'Ladder score': 'Ladder score'}, inplace=True)\n",
    "unemployment_rate_df.rename(columns={'name': 'Country', 'ranking': 'Ranking_unemployment', 'region': 'Region'}, inplace=True)\n",
    "gini_index_df.rename(columns={'name': 'Country', 'region': 'Region', 'value': 'Gini coefficient'}, inplace=True)\n",
    "median_age_df.rename(columns={'name': 'Country', 'ranking': 'Ranking_median_age', 'region': 'Region'}, inplace=True)\n",
    "avg_temp_df.rename(columns={'name': 'Country', 'Average Temperature': 'Average Temperature'}, inplace=True)\n",
    "alc_df.rename(columns={'name': 'Country', 'liters of pure alcohol': 'Liters of pure alcohol'}, inplace=True)"
   ]
  },
  {
   "cell_type": "code",
   "execution_count": 7,
   "metadata": {},
   "outputs": [],
   "source": [
    "# Remove leading/trailing spaces from 'Country' column in all DataFrames\n",
    "for df in dataframes:\n",
    "    df['Country'] = df['Country'].str.strip()"
   ]
  },
  {
   "cell_type": "code",
   "execution_count": 8,
   "metadata": {},
   "outputs": [],
   "source": [
    "# Convert 'Average Temperature' to numeric, coercing errors to NaN\n",
    "avg_temp_df['Average Temperature'] = pd.to_numeric(avg_temp_df['Average Temperature'], errors='coerce')"
   ]
  },
  {
   "cell_type": "code",
   "execution_count": 9,
   "metadata": {},
   "outputs": [
    {
     "name": "stdout",
     "output_type": "stream",
     "text": [
      "NaN values in 'Country' column of Country: 0\n",
      "NaN values in 'Country' column of Country: 0\n",
      "NaN values in 'Country' column of Country: 0\n",
      "NaN values in 'Country' column of Country: 0\n",
      "NaN values in 'Country' column of Country: 0\n",
      "NaN values in 'Country' column of Country: 0\n",
      "NaN values in 'Country' column of Country: 0\n"
     ]
    }
   ],
   "source": [
    "# Debugging: Check for NaN values in 'Country' columns\n",
    "for df in dataframes:\n",
    "    print(f\"NaN values in 'Country' column of {df.columns[0]}: {df['Country'].isna().sum()}\")"
   ]
  },
  {
   "cell_type": "code",
   "execution_count": 11,
   "metadata": {},
   "outputs": [
    {
     "name": "stdout",
     "output_type": "stream",
     "text": [
      "\n",
      "Unique country names in Happiness Index data:\n",
      "['Finland' 'Denmark' 'Iceland' 'Israel' 'Netherlands' 'Sweden' 'Norway'\n",
      " 'Switzerland' 'Luxembourg' 'New Zealand' 'Austria' 'Australia' 'Canada'\n",
      " 'Ireland' 'United States' 'Germany' 'Belgium' 'Czechia' 'United Kingdom'\n",
      " 'Lithuania' 'France' 'Slovenia' 'Costa Rica' 'Romania' 'Singapore'\n",
      " 'United Arab Emirates' 'Taiwan Province of China' 'Uruguay' 'Slovakia'\n",
      " 'Saudi Arabia' 'Estonia' 'Spain' 'Italy' 'Kosovo' 'Chile' 'Mexico'\n",
      " 'Malta' 'Panama' 'Poland' 'Nicaragua' 'Latvia' 'Bahrain' 'Guatemala'\n",
      " 'Kazakhstan' 'Serbia' 'Cyprus' 'Japan' 'Croatia' 'Brazil' 'El Salvador'\n",
      " 'Hungary' 'Argentina' 'Honduras' 'Uzbekistan' 'Malaysia' 'Portugal'\n",
      " 'South Korea' 'Greece' 'Mauritius' 'Thailand' 'Mongolia' 'Kyrgyzstan'\n",
      " 'Moldova' 'China' 'Vietnam' 'Paraguay' 'Montenegro' 'Jamaica' 'Bolivia'\n",
      " 'Russia' 'Bosnia and Herzegovina' 'Colombia' 'Dominican Republic'\n",
      " 'Ecuador' 'Peru' 'Philippines' 'Bulgaria' 'Nepal' 'Armenia' 'Tajikistan'\n",
      " 'Algeria' 'Hong Kong S.A.R. of China' 'Albania' 'Indonesia'\n",
      " 'South Africa' 'Congo (Brazzaville)' 'North Macedonia' 'Venezuela' 'Laos'\n",
      " 'Georgia' 'Guinea' 'Ukraine' 'Ivory Coast' 'Gabon' 'Nigeria' 'Cameroon'\n",
      " 'Mozambique' 'Iraq' 'State of Palestine' 'Morocco' 'Iran' 'Senegal'\n",
      " 'Mauritania' 'Burkina Faso' 'Namibia' 'Turkiye' 'Ghana' 'Pakistan'\n",
      " 'Niger' 'Tunisia' 'Kenya' 'Sri Lanka' 'Uganda' 'Chad' 'Cambodia' 'Benin'\n",
      " 'Myanmar' 'Bangladesh' 'Gambia' 'Mali' 'Egypt' 'Togo' 'Jordan' 'Ethiopia'\n",
      " 'Liberia' 'India' 'Madagascar' 'Zambia' 'Tanzania' 'Comoros' 'Malawi'\n",
      " 'Botswana' 'Congo (Kinshasa)' 'Zimbabwe' 'Sierra Leone' 'Lebanon'\n",
      " 'Afghanistan']\n",
      "\n",
      "Unique country names in Temperature data:\n",
      "['Burkina Faso' 'Mali' 'Qatar' 'Senegal' 'United Arab Emirates'\n",
      " 'Mauritania' 'Bahrain' 'Aruba' 'Djibouti' 'Gambia' 'Benin' 'Maldives'\n",
      " 'Guinea Bissau' 'Cayman Islands' 'Oman' 'Marshall Islands' 'Kiribati'\n",
      " 'Ghana' 'Singapore' 'Niger' 'Kuwait' 'Sudan' 'Guam' 'Palau' 'Samoa'\n",
      " 'Togo' 'Micronesia' 'St Kitts and Nevis' 'American Samoa' 'Chad'\n",
      " 'Cambodia' 'Northern Mariana Islands' 'Sri Lanka' 'Nigeria' 'Seychelles'\n",
      " 'Somalia' 'Antigua and Barbuda' 'Ivory Coast' 'Virgin Islands' 'St Lucia'\n",
      " 'Thailand' 'Dominica' 'Sierra Leone' 'Philippines' 'Suriname' 'Eritrea'\n",
      " 'Saudi Arabia' 'Trinidad and Tobago' 'Barbados' 'Malaysia' 'Grenada'\n",
      " 'Guyana' 'Cuba' 'Bahamas' 'Jamaica' 'St Vincent and the Grenadines'\n",
      " 'Indonesia' 'Guinea' 'Solomon Islands' 'Belize' 'Nicaragua' 'Bangladesh'\n",
      " 'Central African Republic' 'Brazil' 'Venezuela' 'Yemen' 'Liberia' 'Gabon'\n",
      " 'Panama' 'El Salvador' 'Kenya' 'India' 'Tonga' 'Republic of the Congo'\n",
      " 'Haiti' 'Fiji' 'Cameroon' 'Puerto Rico' 'Equatorial Guinea' 'Mayotte'\n",
      " 'Papua New Guinea' 'Vanuatu' 'Vietnam' 'Colombia' 'Honduras'\n",
      " 'Sao Tome and Principe' 'Costa Rica' 'Dominican Republic' 'Mozambique'\n",
      " 'Congo' 'Algeria' 'French Polynesia' 'Laos' 'Myanmar' 'Paraguay' 'Iraq'\n",
      " 'Guatemala' 'Comoros' 'Hong Kong' 'Ethiopia' 'Macau' 'New Caledonia'\n",
      " 'Mauritius' 'Egypt' 'Uganda' 'Tanzania' 'Libya' 'Madagascar' 'Cape Verde'\n",
      " 'Malawi' 'Pakistan' 'Botswana' 'Australia' 'Zambia' 'Zimbabwe' 'Mexico'\n",
      " 'Angola' 'Tunisia' 'Ecuador' 'Swaziland' 'Taiwan' 'Bolivia' 'Burundi'\n",
      " 'Malta' 'Namibia' 'Israel' 'Jordan' 'Palestine' 'Peru' 'Cyprus' 'Iran'\n",
      " 'Syria' 'Rwanda' 'Morocco' 'South Africa' 'Uruguay' 'Turkmenistan'\n",
      " 'Portugal' 'Lebanon' 'Spain' 'Argentina' 'Monaco' 'Greece' 'Uzbekistan'\n",
      " 'Afghanistan' 'Nepal' 'Italy' 'San Marino' 'Azerbaijan' 'Albania'\n",
      " 'Croatia' 'France' 'South Korea' 'Lesotho' 'Hungary' 'Serbia' 'Japan'\n",
      " 'Bulgaria' 'Turkey' 'Belgium' 'Moldova' 'Netherlands' 'Macedonia'\n",
      " 'New Zealand' 'Bosnia and Herzegovina' 'Luxembourg' 'Romania' 'Slovenia'\n",
      " 'Montenegro' 'Germany' 'Bhutan' 'Ireland' 'United Kingdom' 'Ukraine'\n",
      " 'Georgia' 'Isle of Man' 'Slovakia' 'Denmark' 'Andorra' 'United States'\n",
      " 'Czech Republic' 'Poland' 'Chile' 'Liechtenstein' 'Austria' 'Armenia'\n",
      " 'China' 'Switzerland' 'Kazakhstan' 'Belarus' 'Lithuania' 'North Korea'\n",
      " 'Latvia' 'Faroe Islands' 'Estonia' 'Tajikistan' 'Kyrgyzstan' 'Sweden'\n",
      " 'Finland' 'Norway' 'Iceland' 'Mongolia' 'Russia' 'Canada' 'Greenland']\n",
      "\n",
      "Unique country names in Alcohol Consumption data:\n",
      "['Cook Islands' 'Latvia' 'Czechia' 'Lithuania' 'Austria'\n",
      " 'Antigua and Barbuda' 'Estonia' 'France' 'Bulgaria' 'Slovenia'\n",
      " 'Luxembourg' 'Andorra' 'Poland' 'Romania' 'Ireland' 'Hungary' 'Spain'\n",
      " 'Belarus' 'Germany' 'Portugal' 'Slovakia' 'Barbados' 'Montenegro'\n",
      " 'United Kingdom' 'Croatia' 'Cyprus' 'Australia' 'Seychelles'\n",
      " 'Bahamas, The' 'Switzerland' 'Saint Lucia' 'New Zealand' 'Denmark'\n",
      " 'Belgium' 'United States' 'Saint Kitts and Nevis' 'Grenada' 'Niue'\n",
      " 'Japan' 'Netherlands' 'Finland' 'Laos' 'Malta' 'Canada' 'Argentina'\n",
      " 'Tanzania' 'Chile' 'Korea, South' 'Iceland' 'Eswatini' 'Italy'\n",
      " 'Saint Vincent and the Grenadines' 'Georgia' 'Moldova' 'Serbia' 'Russia'\n",
      " 'Burkina Faso' 'South Africa' 'Sweden' 'Thailand' 'Uganda' 'Suriname'\n",
      " 'Panama' 'Gabon' 'Rwanda' 'Greece' 'Dominica' 'Brazil'\n",
      " 'Equatorial Guinea' 'Norway' 'Botswana' 'Belize' 'Angola'\n",
      " 'Trinidad and Tobago' 'Congo, Republic of the' 'Peru' 'Ukraine'\n",
      " 'Dominican Republic' 'Paraguay' 'Mongolia' 'Bosnia and Herzegovina'\n",
      " 'Uruguay' 'Guyana' 'Philippines' 'Cuba' 'Cabo Verde' 'Cambodia' 'Nigeria'\n",
      " 'China' 'Albania' 'Mexico' 'Sao Tome and Principe' 'Colombia' 'Cameroon'\n",
      " 'Burundi' 'Kyrgyzstan' 'North Macedonia' 'Zambia' 'Armenia' 'Kazakhstan'\n",
      " 'Nicaragua' 'Korea, North' 'Lesotho' 'Jamaica' 'Vietnam' 'Mauritius'\n",
      " 'Sierra Leone' 'Guinea-Bissau' 'Liberia' 'Zimbabwe' 'India' 'Israel'\n",
      " 'Costa Rica' 'Ecuador' 'Bolivia' 'El Salvador' 'Turkmenistan' 'Haiti'\n",
      " 'Honduras' 'Fiji' 'Gambia, The' 'Sri Lanka' 'Venezuela' 'Uzbekistan'\n",
      " 'Nauru' 'Namibia' 'Samoa' 'Burma' 'Malawi' 'United Arab Emirates' 'Sudan'\n",
      " 'Singapore' \"Cote d'Ivoire\" 'Kenya' 'Guatemala' 'Vanuatu' 'Ghana'\n",
      " 'Micronesia, Federated States of' 'Tunisia' 'Mozambique' 'Togo'\n",
      " 'Maldives' 'Azerbaijan' 'Papua New Guinea' 'Benin' 'Solomon Islands'\n",
      " 'Turkey (Turkiye)' 'Bahrain' 'Ethiopia' 'Lebanon' 'Qatar'\n",
      " 'Central African Republic' 'Eritrea' 'Tuvalu' 'Madagascar' 'Tajikistan'\n",
      " 'Brunei' 'Malaysia' 'Mali' 'Algeria' 'Congo, Democratic Republic of the'\n",
      " 'Chad' 'Morocco' 'Oman' 'Kiribati' 'Timor-Leste' 'Nepal' 'Guinea' 'Tonga'\n",
      " 'Senegal' 'Jordan' 'Djibouti' 'Comoros' 'Iraq' 'Egypt' 'Syria' 'Niger'\n",
      " 'Indonesia' 'Bhutan' 'Pakistan' 'Iran' 'Yemen' 'Afghanistan' 'Libya'\n",
      " 'Saudi Arabia' 'Mauritania' 'Bangladesh' 'Somalia' 'Kuwait']\n"
     ]
    }
   ],
   "source": [
    "# Check unique country names in each dataset\n",
    "print(\"\\nUnique country names in Happiness Index data:\")\n",
    "print(happinessindex_df['Country'].unique())\n",
    "print(\"\\nUnique country names in Temperature data:\")\n",
    "print(avg_temp_df['Country'].unique())\n",
    "print(\"\\nUnique country names in Alcohol Consumption data:\")\n",
    "print(alc_df['Country'].unique())\n",
    "\n",
    "# Merge DataFrames and include 'Region' from gini_index_df, median_age_df, population_df, and unemployment_rate_df\n",
    "merged_df = pd.merge(happinessindex_df, population_df[['Country', 'Population', 'Region']], on='Country', how='left')\n",
    "\n",
    "merged_df = pd.merge(merged_df, unemployment_rate_df[['Country', 'Ranking_unemployment', 'Region']], on='Country', how='left', suffixes=('', '_unemployment'))\n",
    "\n",
    "merged_df = pd.merge(merged_df, gini_index_df[['Country', 'Gini coefficient', 'Region']], on='Country', how='left', suffixes=('', '_gini'))\n",
    "\n",
    "merged_df = pd.merge(merged_df, median_age_df[['Country', 'Ranking_median_age', 'Region']], on='Country', how='left', suffixes=('', '_median_age'))\n",
    "\n",
    "merged_df = pd.merge(merged_df, avg_temp_df, on='Country', how='left', suffixes=('', '_avg_temp'))\n",
    "\n",
    "merged_df = pd.merge(merged_df, alc_df, on='Country', how='left', suffixes=('', '_alc_df'))\n"
   ]
  },
  {
   "cell_type": "code",
   "execution_count": 12,
   "metadata": {},
   "outputs": [],
   "source": [
    "# Drop any duplicate columns, prioritize non-null regions\n",
    "merged_df['Region'] = merged_df.apply(lambda row: row['Region'] if pd.notnull(row['Region']) else row['Region_unemployment'] if pd.notnull(row['Region_unemployment']) else row['Region_gini'] if pd.notnull(row['Region_gini']) else row['Region_median_age'], axis=1)\n",
    "merged_df = merged_df.drop(columns=['Region_unemployment', 'Region_gini', 'Region_median_age'])"
   ]
  },
  {
   "cell_type": "code",
   "execution_count": 13,
   "metadata": {},
   "outputs": [
    {
     "name": "stdout",
     "output_type": "stream",
     "text": [
      "\n",
      "Columns in merged DataFrame:\n",
      "Index(['Country', 'Ladder score', 'Standard error of ladder score',\n",
      "       'upperwhisker', 'lowerwhisker', 'Logged GDP per capita',\n",
      "       'Social support', 'Healthy life expectancy',\n",
      "       'Freedom to make life choices', 'Generosity',\n",
      "       'Perceptions of corruption', 'Ladder score in Dystopia',\n",
      "       'Explained by: Log GDP per capita', 'Explained by: Social support',\n",
      "       'Explained by: Healthy life expectancy',\n",
      "       'Explained by: Freedom to make life choices',\n",
      "       'Explained by: Generosity', 'Explained by: Perceptions of corruption',\n",
      "       'Dystopia + residual', 'Population', 'Region', 'Ranking_unemployment',\n",
      "       'Gini coefficient', 'Ranking_median_age', 'Average Temperature',\n",
      "       'https://tradingeconomics.com/country-list/temperature', 'slug',\n",
      "       'Liters of pure alcohol', 'date_of_information', 'ranking', 'region'],\n",
      "      dtype='object')\n"
     ]
    }
   ],
   "source": [
    "\n",
    "# Handle 'Average Temperature' separately\n",
    "print(\"\\nColumns in merged DataFrame:\")\n",
    "print(merged_df.columns)\n"
   ]
  },
  {
   "cell_type": "code",
   "execution_count": 14,
   "metadata": {},
   "outputs": [],
   "source": [
    "\n",
    "# Fill any other NaN values with 'n/a', excluding 'Average Temperature'\n",
    "other_columns = merged_df.columns.difference(['Average Temperature'])\n",
    "merged_df[other_columns] = merged_df[other_columns].fillna('n/a')"
   ]
  },
  {
   "cell_type": "code",
   "execution_count": 15,
   "metadata": {},
   "outputs": [],
   "source": [
    "# Check what to keep\n",
    "columns_to_keep = [\n",
    "    'Country', \n",
    "    'Region',\n",
    "    'Ladder score',\n",
    "    'Logged GDP per capita', \n",
    "    'Social support', \n",
    "    'Healthy life expectancy', \n",
    "    'Freedom to make life choices', \n",
    "    'Generosity', \n",
    "    'Perceptions of corruption', \n",
    "    'Population',  \n",
    "    'Ranking_unemployment',  \n",
    "    'Ranking_median_age',  \n",
    "    'Gini coefficient',\n",
    "    'Average Temperature',\n",
    "    'Liters of pure alcohol'\n",
    "]\n",
    "\n",
    "missing_cols = [col for col in columns_to_keep if col not in merged_df.columns]\n",
    "if missing_cols:\n",
    "    print(f\"Warning: Column(s) {missing_cols} are missing from the DataFrame.\")\n",
    "\n",
    "# final check before making csv\n",
    "existing_columns_to_keep = [col for col in columns_to_keep if col in merged_df.columns]\n",
    "\n",
    "cleaned_df = merged_df[existing_columns_to_keep]\n",
    "\n",
    "# Remove rows with 'n/a' in any cell\n",
    "cleaned_df = cleaned_df.replace('n/a', pd.NA).dropna()\n",
    "\n",
    "cleaned_df.to_csv('Resources/final_output.csv', index=False)"
   ]
  },
  {
   "cell_type": "code",
   "execution_count": 16,
   "metadata": {},
   "outputs": [],
   "source": [
    "conn = sqlite3.connect('Resources/HappinessIndexScore.sqlite')\n",
    "cleaned_df.to_sql('final_output', conn, if_exists='replace', index=False)\n",
    "conn.close()"
   ]
  },
  {
   "cell_type": "code",
   "execution_count": 18,
   "metadata": {},
   "outputs": [],
   "source": [
    "happiness_path = Path('Resources/HappinessIndexScore.sqlite')\n",
    "engine = create_engine(f'sqlite:///{happiness_path}')\n",
    "conn = engine.connect()\n",
    "conn.close()"
   ]
  }
 ],
 "metadata": {
  "kernelspec": {
   "display_name": "dev (ipykernel)",
   "language": "python",
   "name": "dev"
  },
  "language_info": {
   "codemirror_mode": {
    "name": "ipython",
    "version": 3
   },
   "file_extension": ".py",
   "mimetype": "text/x-python",
   "name": "python",
   "nbconvert_exporter": "python",
   "pygments_lexer": "ipython3",
   "version": "3.10.13"
  }
 },
 "nbformat": 4,
 "nbformat_minor": 2
}
