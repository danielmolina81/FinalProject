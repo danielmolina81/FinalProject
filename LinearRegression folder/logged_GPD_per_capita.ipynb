{
 "cells": [
  {
   "cell_type": "code",
   "execution_count": 18,
   "metadata": {},
   "outputs": [],
   "source": [
    "# Import required libraries\n",
    "import numpy as np\n",
    "import pandas as pd\n",
    "import hvplot.pandas\n",
    "from pathlib import Path\n",
    "from sklearn.linear_model import LinearRegression"
   ]
  },
  {
   "cell_type": "code",
   "execution_count": 19,
   "metadata": {},
   "outputs": [
    {
     "data": {
      "text/html": [
       "<div>\n",
       "<style scoped>\n",
       "    .dataframe tbody tr th:only-of-type {\n",
       "        vertical-align: middle;\n",
       "    }\n",
       "\n",
       "    .dataframe tbody tr th {\n",
       "        vertical-align: top;\n",
       "    }\n",
       "\n",
       "    .dataframe thead th {\n",
       "        text-align: right;\n",
       "    }\n",
       "</style>\n",
       "<table border=\"1\" class=\"dataframe\">\n",
       "  <thead>\n",
       "    <tr style=\"text-align: right;\">\n",
       "      <th></th>\n",
       "      <th>country</th>\n",
       "      <th>region</th>\n",
       "      <th>ladder_score</th>\n",
       "      <th>logged_GPD_per_capita</th>\n",
       "      <th>social_support</th>\n",
       "      <th>healthy_life_expectancy</th>\n",
       "      <th>freedom_life_choices</th>\n",
       "      <th>generosity</th>\n",
       "      <th>perceptions_corruption</th>\n",
       "      <th>population_density</th>\n",
       "      <th>unemployment_rate</th>\n",
       "      <th>median_age</th>\n",
       "      <th>gini_coefficient</th>\n",
       "      <th>avg_temperature</th>\n",
       "      <th>lt_alcohol_per_capita</th>\n",
       "    </tr>\n",
       "  </thead>\n",
       "  <tbody>\n",
       "    <tr>\n",
       "      <th>0</th>\n",
       "      <td>Finland</td>\n",
       "      <td>Europe</td>\n",
       "      <td>7.804</td>\n",
       "      <td>10.792</td>\n",
       "      <td>0.969</td>\n",
       "      <td>71.150</td>\n",
       "      <td>0.961</td>\n",
       "      <td>-0.019</td>\n",
       "      <td>0.182</td>\n",
       "      <td>16.60</td>\n",
       "      <td>7.16</td>\n",
       "      <td>43.2</td>\n",
       "      <td>27.7</td>\n",
       "      <td>3.24</td>\n",
       "      <td>8.23</td>\n",
       "    </tr>\n",
       "    <tr>\n",
       "      <th>1</th>\n",
       "      <td>Denmark</td>\n",
       "      <td>Europe</td>\n",
       "      <td>7.586</td>\n",
       "      <td>10.962</td>\n",
       "      <td>0.954</td>\n",
       "      <td>71.250</td>\n",
       "      <td>0.934</td>\n",
       "      <td>0.134</td>\n",
       "      <td>0.196</td>\n",
       "      <td>138.00</td>\n",
       "      <td>5.14</td>\n",
       "      <td>42.2</td>\n",
       "      <td>27.7</td>\n",
       "      <td>9.77</td>\n",
       "      <td>9.16</td>\n",
       "    </tr>\n",
       "    <tr>\n",
       "      <th>2</th>\n",
       "      <td>Iceland</td>\n",
       "      <td>Europe</td>\n",
       "      <td>7.530</td>\n",
       "      <td>10.896</td>\n",
       "      <td>0.983</td>\n",
       "      <td>72.050</td>\n",
       "      <td>0.936</td>\n",
       "      <td>0.211</td>\n",
       "      <td>0.668</td>\n",
       "      <td>3.50</td>\n",
       "      <td>3.56</td>\n",
       "      <td>37.8</td>\n",
       "      <td>26.1</td>\n",
       "      <td>2.11</td>\n",
       "      <td>7.72</td>\n",
       "    </tr>\n",
       "    <tr>\n",
       "      <th>3</th>\n",
       "      <td>Israel</td>\n",
       "      <td>Middle East</td>\n",
       "      <td>7.473</td>\n",
       "      <td>10.639</td>\n",
       "      <td>0.943</td>\n",
       "      <td>72.697</td>\n",
       "      <td>0.809</td>\n",
       "      <td>-0.023</td>\n",
       "      <td>0.708</td>\n",
       "      <td>412.24</td>\n",
       "      <td>3.39</td>\n",
       "      <td>30.1</td>\n",
       "      <td>38.6</td>\n",
       "      <td>20.23</td>\n",
       "      <td>3.07</td>\n",
       "    </tr>\n",
       "    <tr>\n",
       "      <th>4</th>\n",
       "      <td>Netherlands</td>\n",
       "      <td>Europe</td>\n",
       "      <td>7.403</td>\n",
       "      <td>10.942</td>\n",
       "      <td>0.930</td>\n",
       "      <td>71.550</td>\n",
       "      <td>0.887</td>\n",
       "      <td>0.213</td>\n",
       "      <td>0.379</td>\n",
       "      <td>420.38</td>\n",
       "      <td>3.56</td>\n",
       "      <td>42.2</td>\n",
       "      <td>29.2</td>\n",
       "      <td>11.72</td>\n",
       "      <td>8.23</td>\n",
       "    </tr>\n",
       "  </tbody>\n",
       "</table>\n",
       "</div>"
      ],
      "text/plain": [
       "       country       region  ladder_score  logged_GPD_per_capita  \\\n",
       "0      Finland       Europe         7.804                 10.792   \n",
       "1      Denmark       Europe         7.586                 10.962   \n",
       "2      Iceland       Europe         7.530                 10.896   \n",
       "3       Israel  Middle East         7.473                 10.639   \n",
       "4  Netherlands       Europe         7.403                 10.942   \n",
       "\n",
       "   social_support  healthy_life_expectancy  freedom_life_choices  generosity  \\\n",
       "0           0.969                   71.150                 0.961      -0.019   \n",
       "1           0.954                   71.250                 0.934       0.134   \n",
       "2           0.983                   72.050                 0.936       0.211   \n",
       "3           0.943                   72.697                 0.809      -0.023   \n",
       "4           0.930                   71.550                 0.887       0.213   \n",
       "\n",
       "   perceptions_corruption  population_density  unemployment_rate  median_age  \\\n",
       "0                   0.182               16.60               7.16        43.2   \n",
       "1                   0.196              138.00               5.14        42.2   \n",
       "2                   0.668                3.50               3.56        37.8   \n",
       "3                   0.708              412.24               3.39        30.1   \n",
       "4                   0.379              420.38               3.56        42.2   \n",
       "\n",
       "   gini_coefficient  avg_temperature  lt_alcohol_per_capita  \n",
       "0              27.7             3.24                   8.23  \n",
       "1              27.7             9.77                   9.16  \n",
       "2              26.1             2.11                   7.72  \n",
       "3              38.6            20.23                   3.07  \n",
       "4              29.2            11.72                   8.23  "
      ]
     },
     "execution_count": 19,
     "metadata": {},
     "output_type": "execute_result"
    }
   ],
   "source": [
    "#Read  data\n",
    "file_path = Path(\"../Resources/final_output.csv\")\n",
    "df_gdp = pd.read_csv(file_path)\n",
    "\n",
    "df_gdp.head()"
   ]
  },
  {
   "cell_type": "code",
   "execution_count": 20,
   "metadata": {},
   "outputs": [
    {
     "data": {},
     "metadata": {},
     "output_type": "display_data"
    },
    {
     "data": {
      "application/vnd.holoviews_exec.v0+json": "",
      "text/html": [
       "<div id='p1130'>\n",
       "  <div id=\"dcde6608-d22e-4d34-9a25-e0b6e921148c\" data-root-id=\"p1130\" style=\"display: contents;\"></div>\n",
       "</div>\n",
       "<script type=\"application/javascript\">(function(root) {\n",
       "  var docs_json = {\"6001b86e-3b8a-4700-add7-77a3497d1d86\":{\"version\":\"3.4.3\",\"title\":\"Bokeh Application\",\"roots\":[{\"type\":\"object\",\"name\":\"Row\",\"id\":\"p1130\",\"attributes\":{\"name\":\"Row01197\",\"tags\":[\"embedded\"],\"stylesheets\":[\"\\n:host(.pn-loading):before, .pn-loading:before {\\n  background-color: #c3c3c3;\\n  mask-size: auto calc(min(50%, 400px));\\n  -webkit-mask-size: auto calc(min(50%, 400px));\\n}\",{\"type\":\"object\",\"name\":\"ImportedStyleSheet\",\"id\":\"p1133\",\"attributes\":{\"url\":\"https://cdn.holoviz.org/panel/1.4.5/dist/css/loading.css\"}},{\"type\":\"object\",\"name\":\"ImportedStyleSheet\",\"id\":\"p1189\",\"attributes\":{\"url\":\"https://cdn.holoviz.org/panel/1.4.5/dist/css/listpanel.css\"}},{\"type\":\"object\",\"name\":\"ImportedStyleSheet\",\"id\":\"p1131\",\"attributes\":{\"url\":\"https://cdn.holoviz.org/panel/1.4.5/dist/bundled/theme/default.css\"}},{\"type\":\"object\",\"name\":\"ImportedStyleSheet\",\"id\":\"p1132\",\"attributes\":{\"url\":\"https://cdn.holoviz.org/panel/1.4.5/dist/bundled/theme/native.css\"}}],\"min_width\":700,\"margin\":0,\"sizing_mode\":\"stretch_width\",\"align\":\"start\",\"children\":[{\"type\":\"object\",\"name\":\"Spacer\",\"id\":\"p1134\",\"attributes\":{\"name\":\"HSpacer01204\",\"stylesheets\":[\"\\n:host(.pn-loading):before, .pn-loading:before {\\n  background-color: #c3c3c3;\\n  mask-size: auto calc(min(50%, 400px));\\n  -webkit-mask-size: auto calc(min(50%, 400px));\\n}\",{\"id\":\"p1133\"},{\"id\":\"p1131\"},{\"id\":\"p1132\"}],\"margin\":0,\"sizing_mode\":\"stretch_width\",\"align\":\"start\"}},{\"type\":\"object\",\"name\":\"Figure\",\"id\":\"p1142\",\"attributes\":{\"width\":700,\"height\":300,\"margin\":[5,10],\"sizing_mode\":\"fixed\",\"align\":\"start\",\"x_range\":{\"type\":\"object\",\"name\":\"Range1d\",\"id\":\"p1135\",\"attributes\":{\"tags\":[[[\"logged_GPD_per_capita\",\"logged_GPD_per_capita\",null]],[]],\"start\":5.264157142857143,\"end\":11.922842857142857,\"reset_start\":5.264157142857143,\"reset_end\":11.922842857142857}},\"y_range\":{\"type\":\"object\",\"name\":\"Range1d\",\"id\":\"p1136\",\"attributes\":{\"tags\":[[[\"ladder_score\",\"ladder_score\",null]],{\"type\":\"map\",\"entries\":[[\"invert_yaxis\",false],[\"autorange\",false]]}],\"start\":1.2645,\"end\":8.3985,\"reset_start\":1.2645,\"reset_end\":8.3985}},\"x_scale\":{\"type\":\"object\",\"name\":\"LinearScale\",\"id\":\"p1152\"},\"y_scale\":{\"type\":\"object\",\"name\":\"LinearScale\",\"id\":\"p1153\"},\"title\":{\"type\":\"object\",\"name\":\"Title\",\"id\":\"p1145\",\"attributes\":{\"text\":\"ladder_score vs health expectancy\",\"text_color\":\"black\",\"text_font_size\":\"12pt\"}},\"renderers\":[{\"type\":\"object\",\"name\":\"GlyphRenderer\",\"id\":\"p1182\",\"attributes\":{\"data_source\":{\"type\":\"object\",\"name\":\"ColumnDataSource\",\"id\":\"p1173\",\"attributes\":{\"selected\":{\"type\":\"object\",\"name\":\"Selection\",\"id\":\"p1174\",\"attributes\":{\"indices\":[],\"line_indices\":[]}},\"selection_policy\":{\"type\":\"object\",\"name\":\"UnionRenderers\",\"id\":\"p1175\"},\"data\":{\"type\":\"map\",\"entries\":[[\"logged_GPD_per_capita\",{\"type\":\"ndarray\",\"array\":{\"type\":\"bytes\",\"data\":\"L90kBoGVJUAGgZVDi+wlQJhuEoPAyiVAukkMAitHJUD8qfHSTeIlQGq8dJMYxCVAkxgEVg4tJkCHFtnO91MmQFK4HoXrUSdAbef7qfFSJUA/NV66ScwlQDEIrBxapCVAsp3vp8aLJUDn+6nx0g0nQH9qvHSTGCZANV66SQzCJUDjpZvEILAlQJzEILByaCVAiUFg5dAiJUD0/dR46WYlQJMYBFYOLSVAgZVDi2znI0AhsHJoka0kQDEIrBxaJCdACtejcD1KJkBt5/up8RIkQNv5fmq8tCRArkfhehRuJUCiRbbz/RQlQBSuR+F6FCVA+FPjpZtEJUDufD81XjokQDMzMzMzsyNA30+Nl25SJUBcj8L1KJwkQA4tsp3v5yRAI9v5fmo8IUA9CtejcL0kQAisHFpkOyJAokW28/1UJEBoke18P7UjQEa28/3UOCVACKwcWmQ7JUA730+Nl64kQESLbOf7KSNAIbByaJEtIkBKDAIrh9YkQF66SQwC6yNAhetRuB5FIUBMN4lBYOUhQEoMAiuHViRAz/dT46XbJED6fmq8dJMkQESLbOf76SNAjZduEoOAI0BYObTIdr4iQEa28/3U+CBAc2iR7Xz/IkBg5dAi23kjQG3n+6nxkiJAhetRuB4FI0DHSzeJQaAjQBSuR+F6VCJAuB6F61H4IUDsUbgehWskQAisHFpkOyNAXrpJDAIrI0CsHFpkO58jQArXo3A9iiJA5/up8dLNIkBoke18P/UhQAaBlUOLLCRAUI2XbhKDIEB7FK5H4TojQNNNYhBYeSBAmpmZmZmZIkD8qfHSTSIjQIXrUbgexSJA2/l+arz0IkDP91PjpRsWQAaBlUOL7CFAmG4Sg8BKI0CF61G4HoUfQFTjpZvEoCJAbef7qfESI0DLoUW28/0gQMl2vp8abyBAEFg5tMh2HEAZBFYOLTIiQBkEVg4t8iFAuB6F61E4I0CPwvUoXE8gQDvfT42XLiFAXrpJDAKrHkDLoUW28z0iQP7UeOkmMSFAFK5H4XoUIUB3vp8aL10cQLByaJHtfCJA0SLb+X7qIEAIrBxaZPsiQHe+nxov3R5AJQaBlUMLHUCF61G4HsUgQNv5fmq8NCBAH4XrUbheIUAfhetRuJ4eQJZDi2znuyJA/tR46SaxHkDD9Shcj0IiQNv5fmq89B5Az/dT46UbHUD4U+Olm4QhQClcj8L1KB1A2c73U+MlIEAhsHJokW0fQGZmZmZmJiBAaJHtfD81HUA1XrpJDEIjQKrx0k1ikB5A+n5qvHSTHUDb+X5qvPQiQLKd76fGSx1A\"},\"shape\":[123],\"dtype\":\"float64\",\"order\":\"little\"}],[\"ladder_score\",{\"type\":\"ndarray\",\"array\":{\"type\":\"bytes\",\"data\":\"nu+nxks3H0Dy0k1iEFgeQB+F61G4Hh5AMQisHFrkHUDpJjEIrJwdQBSuR+F6lB1Aw/UoXI9CHUD2KFyPwvUcQLbz/dR46RxAy6FFtvN9HEAX2c73U2McQOF6FK5HYRxA8tJNYhDYG0C+nxov3aQbQPp+arx0kxtAxSCwcmiRG0BWDi2ynW8bQMl2vp8aLxtAWmQ7308NG0C+nxov3aQaQJqZmZmZmRpAVg4tsp1vGkBCYOXQIlsaQAwCK4cWWRpAYhBYObRIGkBg5dAi2/kZQMdLN4lB4BlAJzEIrBzaGUBSuB6F69EZQFg5tMh2vhlAH4XrUbieGUC8dJMYBFYZQFK4HoXrURlAMzMzMzMzGUCPwvUoXA8ZQArXo3A9ChlA8KfGSzcJGUAnMQisHNoYQJqZmZmZmRhA+n5qvHSTGED6fmq8dJMYQIXrUbgehRhAarx0kxiEGEAAAAAAAIAYQAAAAAAAgBhAsHJoke18GEBEi2zn+ykYQH9qvHSTGBhAZDvfT40XGEB1kxgEVg4YQD81XrpJDBhArBxaZDvfF0DTTWIQWLkXQM/3U+OlmxdArBxaZDtfF0Bcj8L1KFwXQM3MzMzMTBdALbKd76dGF0ASg8DKoUUXQFpkO99PDRdAwcqhRbbzFkAX2c73U+MWQB1aZDvfzxZAI9v5fmq8FkC+nxov3aQWQNV46SYxiBZAhetRuB6FFkAtsp3vp0YWQCPb+X5qPBZAtMh2vp8aFkBkO99PjRcWQHe+nxov3RVAcT0K16NwFUCR7Xw/NV4VQFK4HoXrURVAN4lBYOVQFUDP91PjpRsVQM/3U+OlGxVAmpmZmZkZFUDy0k1iENgUQIts5/upcRRAVg4tsp1vFEB9PzVeukkUQGIQWDm0SBRApHA9CtcjFEAGgZVDi+wTQDEIrBxa5BNAN4lBYOXQE0DdJAaBlcMTQOkmMQisnBNAGy/dJAaBE0DsUbgehWsTQEw3iUFg5RJAWmQ730+NEkCgGi/dJIYSQOxRuB6FaxJAuB6F61E4EkAbL90kBgESQLByaJHt/BFAppvEILDyEUD4U+Olm8QRQO58PzVeuhFASgwCK4eWEUDfT42XbpIRQOXQItv5fhFAVOOlm8QgEUCYbhKDwMoQQK5H4XoUrhBAPzVeukmMEEB7FK5H4XoQQHe+nxovXRBAXrpJDAIrEEC+nxov3SQQQPp+arx0ExBAQmDl0CLbD0BaZDvfT40NQFyPwvUoXAxA9ihcj8L1C0B7FK5H4XoLQG8Sg8DKoQlAtMh2vp8aCUCJQWDl0CIDQFg5tMh2vv0/\"},\"shape\":[123],\"dtype\":\"float64\",\"order\":\"little\"}]]}}},\"view\":{\"type\":\"object\",\"name\":\"CDSView\",\"id\":\"p1183\",\"attributes\":{\"filter\":{\"type\":\"object\",\"name\":\"AllIndices\",\"id\":\"p1184\"}}},\"glyph\":{\"type\":\"object\",\"name\":\"Scatter\",\"id\":\"p1179\",\"attributes\":{\"tags\":[\"apply_ranges\"],\"x\":{\"type\":\"field\",\"field\":\"logged_GPD_per_capita\"},\"y\":{\"type\":\"field\",\"field\":\"ladder_score\"},\"size\":{\"type\":\"value\",\"value\":5.477225575051661},\"line_color\":{\"type\":\"value\",\"value\":\"#30a2da\"},\"fill_color\":{\"type\":\"value\",\"value\":\"#30a2da\"},\"hatch_color\":{\"type\":\"value\",\"value\":\"#30a2da\"}}},\"selection_glyph\":{\"type\":\"object\",\"name\":\"Scatter\",\"id\":\"p1185\",\"attributes\":{\"tags\":[\"apply_ranges\"],\"x\":{\"type\":\"field\",\"field\":\"logged_GPD_per_capita\"},\"y\":{\"type\":\"field\",\"field\":\"ladder_score\"},\"size\":{\"type\":\"value\",\"value\":5.477225575051661},\"angle\":{\"type\":\"value\",\"value\":0.0},\"line_color\":{\"type\":\"value\",\"value\":\"#30a2da\"},\"line_alpha\":{\"type\":\"value\",\"value\":1.0},\"line_width\":{\"type\":\"value\",\"value\":1},\"line_join\":{\"type\":\"value\",\"value\":\"bevel\"},\"line_cap\":{\"type\":\"value\",\"value\":\"butt\"},\"line_dash\":{\"type\":\"value\",\"value\":[]},\"line_dash_offset\":{\"type\":\"value\",\"value\":0},\"fill_color\":{\"type\":\"value\",\"value\":\"#30a2da\"},\"fill_alpha\":{\"type\":\"value\",\"value\":1.0},\"hatch_color\":{\"type\":\"value\",\"value\":\"#30a2da\"},\"hatch_alpha\":{\"type\":\"value\",\"value\":1.0},\"hatch_scale\":{\"type\":\"value\",\"value\":12.0},\"hatch_pattern\":{\"type\":\"value\",\"value\":null},\"hatch_weight\":{\"type\":\"value\",\"value\":1.0},\"marker\":{\"type\":\"value\",\"value\":\"circle\"}}},\"nonselection_glyph\":{\"type\":\"object\",\"name\":\"Scatter\",\"id\":\"p1180\",\"attributes\":{\"tags\":[\"apply_ranges\"],\"x\":{\"type\":\"field\",\"field\":\"logged_GPD_per_capita\"},\"y\":{\"type\":\"field\",\"field\":\"ladder_score\"},\"size\":{\"type\":\"value\",\"value\":5.477225575051661},\"line_color\":{\"type\":\"value\",\"value\":\"#30a2da\"},\"line_alpha\":{\"type\":\"value\",\"value\":0.1},\"fill_color\":{\"type\":\"value\",\"value\":\"#30a2da\"},\"fill_alpha\":{\"type\":\"value\",\"value\":0.1},\"hatch_color\":{\"type\":\"value\",\"value\":\"#30a2da\"},\"hatch_alpha\":{\"type\":\"value\",\"value\":0.1}}},\"muted_glyph\":{\"type\":\"object\",\"name\":\"Scatter\",\"id\":\"p1181\",\"attributes\":{\"tags\":[\"apply_ranges\"],\"x\":{\"type\":\"field\",\"field\":\"logged_GPD_per_capita\"},\"y\":{\"type\":\"field\",\"field\":\"ladder_score\"},\"size\":{\"type\":\"value\",\"value\":5.477225575051661},\"line_color\":{\"type\":\"value\",\"value\":\"#30a2da\"},\"line_alpha\":{\"type\":\"value\",\"value\":0.2},\"fill_color\":{\"type\":\"value\",\"value\":\"#30a2da\"},\"fill_alpha\":{\"type\":\"value\",\"value\":0.2},\"hatch_color\":{\"type\":\"value\",\"value\":\"#30a2da\"},\"hatch_alpha\":{\"type\":\"value\",\"value\":0.2}}}}}],\"toolbar\":{\"type\":\"object\",\"name\":\"Toolbar\",\"id\":\"p1151\",\"attributes\":{\"tools\":[{\"type\":\"object\",\"name\":\"WheelZoomTool\",\"id\":\"p1140\",\"attributes\":{\"tags\":[\"hv_created\"],\"renderers\":\"auto\",\"zoom_together\":\"none\"}},{\"type\":\"object\",\"name\":\"HoverTool\",\"id\":\"p1141\",\"attributes\":{\"tags\":[\"hv_created\"],\"renderers\":[{\"id\":\"p1182\"}],\"tooltips\":[[\"logged_GPD_per_capita\",\"@{logged_GPD_per_capita}\"],[\"ladder_score\",\"@{ladder_score}\"]]}},{\"type\":\"object\",\"name\":\"SaveTool\",\"id\":\"p1164\"},{\"type\":\"object\",\"name\":\"PanTool\",\"id\":\"p1165\"},{\"type\":\"object\",\"name\":\"BoxZoomTool\",\"id\":\"p1166\",\"attributes\":{\"overlay\":{\"type\":\"object\",\"name\":\"BoxAnnotation\",\"id\":\"p1167\",\"attributes\":{\"syncable\":false,\"level\":\"overlay\",\"visible\":false,\"left\":{\"type\":\"number\",\"value\":\"nan\"},\"right\":{\"type\":\"number\",\"value\":\"nan\"},\"top\":{\"type\":\"number\",\"value\":\"nan\"},\"bottom\":{\"type\":\"number\",\"value\":\"nan\"},\"left_units\":\"canvas\",\"right_units\":\"canvas\",\"top_units\":\"canvas\",\"bottom_units\":\"canvas\",\"line_color\":\"black\",\"line_alpha\":1.0,\"line_width\":2,\"line_dash\":[4,4],\"fill_color\":\"lightgrey\",\"fill_alpha\":0.5}}}},{\"type\":\"object\",\"name\":\"ResetTool\",\"id\":\"p1172\"}],\"active_drag\":{\"id\":\"p1165\"},\"active_scroll\":{\"id\":\"p1140\"}}},\"left\":[{\"type\":\"object\",\"name\":\"LinearAxis\",\"id\":\"p1159\",\"attributes\":{\"ticker\":{\"type\":\"object\",\"name\":\"BasicTicker\",\"id\":\"p1160\",\"attributes\":{\"mantissas\":[1,2,5]}},\"formatter\":{\"type\":\"object\",\"name\":\"BasicTickFormatter\",\"id\":\"p1161\"},\"axis_label\":\"ladder_score\",\"major_label_policy\":{\"type\":\"object\",\"name\":\"AllLabels\",\"id\":\"p1162\"}}}],\"below\":[{\"type\":\"object\",\"name\":\"LinearAxis\",\"id\":\"p1154\",\"attributes\":{\"ticker\":{\"type\":\"object\",\"name\":\"BasicTicker\",\"id\":\"p1155\",\"attributes\":{\"mantissas\":[1,2,5]}},\"formatter\":{\"type\":\"object\",\"name\":\"BasicTickFormatter\",\"id\":\"p1156\"},\"axis_label\":\"logged_GPD_per_capita\",\"major_label_policy\":{\"type\":\"object\",\"name\":\"AllLabels\",\"id\":\"p1157\"}}}],\"center\":[{\"type\":\"object\",\"name\":\"Grid\",\"id\":\"p1158\",\"attributes\":{\"axis\":{\"id\":\"p1154\"},\"grid_line_color\":null}},{\"type\":\"object\",\"name\":\"Grid\",\"id\":\"p1163\",\"attributes\":{\"dimension\":1,\"axis\":{\"id\":\"p1159\"},\"grid_line_color\":null}}],\"min_border_top\":10,\"min_border_bottom\":10,\"min_border_left\":10,\"min_border_right\":10,\"output_backend\":\"webgl\"}},{\"type\":\"object\",\"name\":\"Spacer\",\"id\":\"p1187\",\"attributes\":{\"name\":\"HSpacer01205\",\"stylesheets\":[\"\\n:host(.pn-loading):before, .pn-loading:before {\\n  background-color: #c3c3c3;\\n  mask-size: auto calc(min(50%, 400px));\\n  -webkit-mask-size: auto calc(min(50%, 400px));\\n}\",{\"id\":\"p1133\"},{\"id\":\"p1131\"},{\"id\":\"p1132\"}],\"margin\":0,\"sizing_mode\":\"stretch_width\",\"align\":\"start\"}}]}}],\"defs\":[{\"type\":\"model\",\"name\":\"ReactiveHTML1\"},{\"type\":\"model\",\"name\":\"FlexBox1\",\"properties\":[{\"name\":\"align_content\",\"kind\":\"Any\",\"default\":\"flex-start\"},{\"name\":\"align_items\",\"kind\":\"Any\",\"default\":\"flex-start\"},{\"name\":\"flex_direction\",\"kind\":\"Any\",\"default\":\"row\"},{\"name\":\"flex_wrap\",\"kind\":\"Any\",\"default\":\"wrap\"},{\"name\":\"gap\",\"kind\":\"Any\",\"default\":\"\"},{\"name\":\"justify_content\",\"kind\":\"Any\",\"default\":\"flex-start\"}]},{\"type\":\"model\",\"name\":\"FloatPanel1\",\"properties\":[{\"name\":\"config\",\"kind\":\"Any\",\"default\":{\"type\":\"map\"}},{\"name\":\"contained\",\"kind\":\"Any\",\"default\":true},{\"name\":\"position\",\"kind\":\"Any\",\"default\":\"right-top\"},{\"name\":\"offsetx\",\"kind\":\"Any\",\"default\":null},{\"name\":\"offsety\",\"kind\":\"Any\",\"default\":null},{\"name\":\"theme\",\"kind\":\"Any\",\"default\":\"primary\"},{\"name\":\"status\",\"kind\":\"Any\",\"default\":\"normalized\"}]},{\"type\":\"model\",\"name\":\"GridStack1\",\"properties\":[{\"name\":\"mode\",\"kind\":\"Any\",\"default\":\"warn\"},{\"name\":\"ncols\",\"kind\":\"Any\",\"default\":null},{\"name\":\"nrows\",\"kind\":\"Any\",\"default\":null},{\"name\":\"allow_resize\",\"kind\":\"Any\",\"default\":true},{\"name\":\"allow_drag\",\"kind\":\"Any\",\"default\":true},{\"name\":\"state\",\"kind\":\"Any\",\"default\":[]}]},{\"type\":\"model\",\"name\":\"drag1\",\"properties\":[{\"name\":\"slider_width\",\"kind\":\"Any\",\"default\":5},{\"name\":\"slider_color\",\"kind\":\"Any\",\"default\":\"black\"},{\"name\":\"value\",\"kind\":\"Any\",\"default\":50}]},{\"type\":\"model\",\"name\":\"click1\",\"properties\":[{\"name\":\"terminal_output\",\"kind\":\"Any\",\"default\":\"\"},{\"name\":\"debug_name\",\"kind\":\"Any\",\"default\":\"\"},{\"name\":\"clears\",\"kind\":\"Any\",\"default\":0}]},{\"type\":\"model\",\"name\":\"FastWrapper1\",\"properties\":[{\"name\":\"object\",\"kind\":\"Any\",\"default\":null},{\"name\":\"style\",\"kind\":\"Any\",\"default\":null}]},{\"type\":\"model\",\"name\":\"NotificationAreaBase1\",\"properties\":[{\"name\":\"js_events\",\"kind\":\"Any\",\"default\":{\"type\":\"map\"}},{\"name\":\"position\",\"kind\":\"Any\",\"default\":\"bottom-right\"},{\"name\":\"_clear\",\"kind\":\"Any\",\"default\":0}]},{\"type\":\"model\",\"name\":\"NotificationArea1\",\"properties\":[{\"name\":\"js_events\",\"kind\":\"Any\",\"default\":{\"type\":\"map\"}},{\"name\":\"notifications\",\"kind\":\"Any\",\"default\":[]},{\"name\":\"position\",\"kind\":\"Any\",\"default\":\"bottom-right\"},{\"name\":\"_clear\",\"kind\":\"Any\",\"default\":0},{\"name\":\"types\",\"kind\":\"Any\",\"default\":[{\"type\":\"map\",\"entries\":[[\"type\",\"warning\"],[\"background\",\"#ffc107\"],[\"icon\",{\"type\":\"map\",\"entries\":[[\"className\",\"fas fa-exclamation-triangle\"],[\"tagName\",\"i\"],[\"color\",\"white\"]]}]]},{\"type\":\"map\",\"entries\":[[\"type\",\"info\"],[\"background\",\"#007bff\"],[\"icon\",{\"type\":\"map\",\"entries\":[[\"className\",\"fas fa-info-circle\"],[\"tagName\",\"i\"],[\"color\",\"white\"]]}]]}]}]},{\"type\":\"model\",\"name\":\"Notification\",\"properties\":[{\"name\":\"background\",\"kind\":\"Any\",\"default\":null},{\"name\":\"duration\",\"kind\":\"Any\",\"default\":3000},{\"name\":\"icon\",\"kind\":\"Any\",\"default\":null},{\"name\":\"message\",\"kind\":\"Any\",\"default\":\"\"},{\"name\":\"notification_type\",\"kind\":\"Any\",\"default\":null},{\"name\":\"_destroyed\",\"kind\":\"Any\",\"default\":false}]},{\"type\":\"model\",\"name\":\"TemplateActions1\",\"properties\":[{\"name\":\"open_modal\",\"kind\":\"Any\",\"default\":0},{\"name\":\"close_modal\",\"kind\":\"Any\",\"default\":0}]},{\"type\":\"model\",\"name\":\"BootstrapTemplateActions1\",\"properties\":[{\"name\":\"open_modal\",\"kind\":\"Any\",\"default\":0},{\"name\":\"close_modal\",\"kind\":\"Any\",\"default\":0}]},{\"type\":\"model\",\"name\":\"TemplateEditor1\",\"properties\":[{\"name\":\"layout\",\"kind\":\"Any\",\"default\":[]}]},{\"type\":\"model\",\"name\":\"MaterialTemplateActions1\",\"properties\":[{\"name\":\"open_modal\",\"kind\":\"Any\",\"default\":0},{\"name\":\"close_modal\",\"kind\":\"Any\",\"default\":0}]},{\"type\":\"model\",\"name\":\"copy_to_clipboard1\",\"properties\":[{\"name\":\"fill\",\"kind\":\"Any\",\"default\":\"none\"},{\"name\":\"value\",\"kind\":\"Any\",\"default\":null}]}]}};\n",
       "  var render_items = [{\"docid\":\"6001b86e-3b8a-4700-add7-77a3497d1d86\",\"roots\":{\"p1130\":\"dcde6608-d22e-4d34-9a25-e0b6e921148c\"},\"root_ids\":[\"p1130\"]}];\n",
       "  var docs = Object.values(docs_json)\n",
       "  if (!docs) {\n",
       "    return\n",
       "  }\n",
       "  const py_version = docs[0].version.replace('rc', '-rc.').replace('.dev', '-dev.')\n",
       "  async function embed_document(root) {\n",
       "    var Bokeh = get_bokeh(root)\n",
       "    await Bokeh.embed.embed_items_notebook(docs_json, render_items);\n",
       "    for (const render_item of render_items) {\n",
       "      for (const root_id of render_item.root_ids) {\n",
       "\tconst id_el = document.getElementById(root_id)\n",
       "\tif (id_el.children.length && id_el.children[0].hasAttribute('data-root-id')) {\n",
       "\t  const root_el = id_el.children[0]\n",
       "\t  root_el.id = root_el.id + '-rendered'\n",
       "\t  for (const child of root_el.children) {\n",
       "            // Ensure JupyterLab does not capture keyboard shortcuts\n",
       "            // see: https://jupyterlab.readthedocs.io/en/4.1.x/extension/notebook.html#keyboard-interaction-model\n",
       "\t    child.setAttribute('data-lm-suppress-shortcuts', 'true')\n",
       "\t  }\n",
       "\t}\n",
       "      }\n",
       "    }\n",
       "  }\n",
       "  function get_bokeh(root) {\n",
       "    if (root.Bokeh === undefined) {\n",
       "      return null\n",
       "    } else if (root.Bokeh.version !== py_version) {\n",
       "      if (root.Bokeh.versions === undefined || !root.Bokeh.versions.has(py_version)) {\n",
       "\treturn null\n",
       "      }\n",
       "      return root.Bokeh.versions.get(py_version);\n",
       "    } else if (root.Bokeh.version === py_version) {\n",
       "      return root.Bokeh\n",
       "    }\n",
       "    return null\n",
       "  }\n",
       "  function is_loaded(root) {\n",
       "    var Bokeh = get_bokeh(root)\n",
       "    return (Bokeh != null && Bokeh.Panel !== undefined)\n",
       "  }\n",
       "  if (is_loaded(root)) {\n",
       "    embed_document(root);\n",
       "  } else {\n",
       "    var attempts = 0;\n",
       "    var timer = setInterval(function(root) {\n",
       "      if (is_loaded(root)) {\n",
       "        clearInterval(timer);\n",
       "        embed_document(root);\n",
       "      } else if (document.readyState == \"complete\") {\n",
       "        attempts++;\n",
       "        if (attempts > 200) {\n",
       "          clearInterval(timer);\n",
       "\t  var Bokeh = get_bokeh(root)\n",
       "\t  if (Bokeh == null || Bokeh.Panel == null) {\n",
       "            console.warn(\"Panel: ERROR: Unable to run Panel code because Bokeh or Panel library is missing\");\n",
       "\t  } else {\n",
       "\t    console.warn(\"Panel: WARNING: Attempting to render but not all required libraries could be resolved.\")\n",
       "\t    embed_document(root)\n",
       "\t  }\n",
       "        }\n",
       "      }\n",
       "    }, 25, root)\n",
       "  }\n",
       "})(window);</script>"
      ],
      "text/plain": [
       ":Scatter   [logged_GPD_per_capita]   (ladder_score)"
      ]
     },
     "execution_count": 20,
     "metadata": {
      "application/vnd.holoviews_exec.v0+json": {
       "id": "p1130"
      }
     },
     "output_type": "execute_result"
    }
   ],
   "source": [
    "# Create a scatter plot of gdp versus the ladder score information\n",
    "gdp_plot = df_gdp.hvplot.scatter(\n",
    "    x=\"logged_GPD_per_capita\",\n",
    "    y=\"ladder_score\",\n",
    "    title=\"Ladder_score by gdp per capita\"\n",
    ")\n",
    "gdp_plot"
   ]
  },
  {
   "cell_type": "code",
   "execution_count": 21,
   "metadata": {},
   "outputs": [
    {
     "data": {
      "text/plain": [
       "array([[10.792],\n",
       "       [10.962],\n",
       "       [10.896],\n",
       "       [10.639],\n",
       "       [10.942]])"
      ]
     },
     "execution_count": 21,
     "metadata": {},
     "output_type": "execute_result"
    }
   ],
   "source": [
    "# Reformat data of the independent variable X as a single-column array\n",
    "X = df_gdp[\"logged_GPD_per_capita\"].values.reshape(-1, 1)\n",
    "\n",
    "# Display sample data\n",
    "X[:5]"
   ]
  },
  {
   "cell_type": "code",
   "execution_count": 22,
   "metadata": {},
   "outputs": [
    {
     "data": {
      "text/plain": [
       "(123, 1)"
      ]
     },
     "execution_count": 22,
     "metadata": {},
     "output_type": "execute_result"
    }
   ],
   "source": [
    "# The shape of X is 30 samples, with a single feature (column)\n",
    "X.shape"
   ]
  },
  {
   "cell_type": "code",
   "execution_count": 23,
   "metadata": {},
   "outputs": [],
   "source": [
    "# Create an array for the dependent variable y\n",
    "y = df_gdp[\"ladder_score\"]"
   ]
  },
  {
   "cell_type": "code",
   "execution_count": 24,
   "metadata": {},
   "outputs": [],
   "source": [
    "# Create a model with scikit-learn\n",
    "model = LinearRegression()"
   ]
  },
  {
   "cell_type": "code",
   "execution_count": 25,
   "metadata": {},
   "outputs": [
    {
     "data": {
      "text/html": [
       "<style>#sk-container-id-2 {color: black;}#sk-container-id-2 pre{padding: 0;}#sk-container-id-2 div.sk-toggleable {background-color: white;}#sk-container-id-2 label.sk-toggleable__label {cursor: pointer;display: block;width: 100%;margin-bottom: 0;padding: 0.3em;box-sizing: border-box;text-align: center;}#sk-container-id-2 label.sk-toggleable__label-arrow:before {content: \"▸\";float: left;margin-right: 0.25em;color: #696969;}#sk-container-id-2 label.sk-toggleable__label-arrow:hover:before {color: black;}#sk-container-id-2 div.sk-estimator:hover label.sk-toggleable__label-arrow:before {color: black;}#sk-container-id-2 div.sk-toggleable__content {max-height: 0;max-width: 0;overflow: hidden;text-align: left;background-color: #f0f8ff;}#sk-container-id-2 div.sk-toggleable__content pre {margin: 0.2em;color: black;border-radius: 0.25em;background-color: #f0f8ff;}#sk-container-id-2 input.sk-toggleable__control:checked~div.sk-toggleable__content {max-height: 200px;max-width: 100%;overflow: auto;}#sk-container-id-2 input.sk-toggleable__control:checked~label.sk-toggleable__label-arrow:before {content: \"▾\";}#sk-container-id-2 div.sk-estimator input.sk-toggleable__control:checked~label.sk-toggleable__label {background-color: #d4ebff;}#sk-container-id-2 div.sk-label input.sk-toggleable__control:checked~label.sk-toggleable__label {background-color: #d4ebff;}#sk-container-id-2 input.sk-hidden--visually {border: 0;clip: rect(1px 1px 1px 1px);clip: rect(1px, 1px, 1px, 1px);height: 1px;margin: -1px;overflow: hidden;padding: 0;position: absolute;width: 1px;}#sk-container-id-2 div.sk-estimator {font-family: monospace;background-color: #f0f8ff;border: 1px dotted black;border-radius: 0.25em;box-sizing: border-box;margin-bottom: 0.5em;}#sk-container-id-2 div.sk-estimator:hover {background-color: #d4ebff;}#sk-container-id-2 div.sk-parallel-item::after {content: \"\";width: 100%;border-bottom: 1px solid gray;flex-grow: 1;}#sk-container-id-2 div.sk-label:hover label.sk-toggleable__label {background-color: #d4ebff;}#sk-container-id-2 div.sk-serial::before {content: \"\";position: absolute;border-left: 1px solid gray;box-sizing: border-box;top: 0;bottom: 0;left: 50%;z-index: 0;}#sk-container-id-2 div.sk-serial {display: flex;flex-direction: column;align-items: center;background-color: white;padding-right: 0.2em;padding-left: 0.2em;position: relative;}#sk-container-id-2 div.sk-item {position: relative;z-index: 1;}#sk-container-id-2 div.sk-parallel {display: flex;align-items: stretch;justify-content: center;background-color: white;position: relative;}#sk-container-id-2 div.sk-item::before, #sk-container-id-2 div.sk-parallel-item::before {content: \"\";position: absolute;border-left: 1px solid gray;box-sizing: border-box;top: 0;bottom: 0;left: 50%;z-index: -1;}#sk-container-id-2 div.sk-parallel-item {display: flex;flex-direction: column;z-index: 1;position: relative;background-color: white;}#sk-container-id-2 div.sk-parallel-item:first-child::after {align-self: flex-end;width: 50%;}#sk-container-id-2 div.sk-parallel-item:last-child::after {align-self: flex-start;width: 50%;}#sk-container-id-2 div.sk-parallel-item:only-child::after {width: 0;}#sk-container-id-2 div.sk-dashed-wrapped {border: 1px dashed gray;margin: 0 0.4em 0.5em 0.4em;box-sizing: border-box;padding-bottom: 0.4em;background-color: white;}#sk-container-id-2 div.sk-label label {font-family: monospace;font-weight: bold;display: inline-block;line-height: 1.2em;}#sk-container-id-2 div.sk-label-container {text-align: center;}#sk-container-id-2 div.sk-container {/* jupyter's `normalize.less` sets `[hidden] { display: none; }` but bootstrap.min.css set `[hidden] { display: none !important; }` so we also need the `!important` here to be able to override the default hidden behavior on the sphinx rendered scikit-learn.org. See: https://github.com/scikit-learn/scikit-learn/issues/21755 */display: inline-block !important;position: relative;}#sk-container-id-2 div.sk-text-repr-fallback {display: none;}</style><div id=\"sk-container-id-2\" class=\"sk-top-container\"><div class=\"sk-text-repr-fallback\"><pre>LinearRegression()</pre><b>In a Jupyter environment, please rerun this cell to show the HTML representation or trust the notebook. <br />On GitHub, the HTML representation is unable to render, please try loading this page with nbviewer.org.</b></div><div class=\"sk-container\" hidden><div class=\"sk-item\"><div class=\"sk-estimator sk-toggleable\"><input class=\"sk-toggleable__control sk-hidden--visually\" id=\"sk-estimator-id-2\" type=\"checkbox\" checked><label for=\"sk-estimator-id-2\" class=\"sk-toggleable__label sk-toggleable__label-arrow\">LinearRegression</label><div class=\"sk-toggleable__content\"><pre>LinearRegression()</pre></div></div></div></div></div>"
      ],
      "text/plain": [
       "LinearRegression()"
      ]
     },
     "execution_count": 25,
     "metadata": {},
     "output_type": "execute_result"
    }
   ],
   "source": [
    "# Fit the data into the model\n",
    "model.fit(X, y)"
   ]
  },
  {
   "cell_type": "code",
   "execution_count": 26,
   "metadata": {},
   "outputs": [
    {
     "name": "stdout",
     "output_type": "stream",
     "text": [
      "Model's slope: [0.76152706]\n"
     ]
    }
   ],
   "source": [
    "# Display the slope\n",
    "print(f\"Model's slope: {model.coef_}\")"
   ]
  },
  {
   "cell_type": "code",
   "execution_count": 27,
   "metadata": {},
   "outputs": [
    {
     "name": "stdout",
     "output_type": "stream",
     "text": [
      "Model's formula: y = -1.6326061886392935 + 0.7615270646405505X\n"
     ]
    }
   ],
   "source": [
    "# Display the model's best fit line formula\n",
    "print(f\"Model's formula: y = {model.intercept_} + {model.coef_[0]}X\")"
   ]
  },
  {
   "cell_type": "code",
   "execution_count": 28,
   "metadata": {},
   "outputs": [
    {
     "name": "stdout",
     "output_type": "stream",
     "text": [
      "Model's formula: y = -1.6326061886392935 + 0.7615270646405505\n",
      "-0.87\n"
     ]
    }
   ],
   "source": [
    "\n",
    "print(f\"Model's formula: y = {model.intercept_} + {model.coef_[0]}\")\n",
    "\n",
    "y_7 = model.intercept_ + model.coef_[0] \n",
    "\n",
    "# Display the prediction\n",
    "print(f\"{y_7:.2f}\")"
   ]
  },
  {
   "cell_type": "code",
   "execution_count": 29,
   "metadata": {},
   "outputs": [],
   "source": [
    "# Make predictions using the X set\n",
    "predicted_y_values = model.predict(X)"
   ]
  },
  {
   "cell_type": "code",
   "execution_count": 30,
   "metadata": {},
   "outputs": [
    {
     "data": {
      "text/html": [
       "<div>\n",
       "<style scoped>\n",
       "    .dataframe tbody tr th:only-of-type {\n",
       "        vertical-align: middle;\n",
       "    }\n",
       "\n",
       "    .dataframe tbody tr th {\n",
       "        vertical-align: top;\n",
       "    }\n",
       "\n",
       "    .dataframe thead th {\n",
       "        text-align: right;\n",
       "    }\n",
       "</style>\n",
       "<table border=\"1\" class=\"dataframe\">\n",
       "  <thead>\n",
       "    <tr style=\"text-align: right;\">\n",
       "      <th></th>\n",
       "      <th>country</th>\n",
       "      <th>region</th>\n",
       "      <th>ladder_score</th>\n",
       "      <th>logged_GPD_per_capita</th>\n",
       "      <th>social_support</th>\n",
       "      <th>healthy_life_expectancy</th>\n",
       "      <th>freedom_life_choices</th>\n",
       "      <th>generosity</th>\n",
       "      <th>perceptions_corruption</th>\n",
       "      <th>population_density</th>\n",
       "      <th>unemployment_rate</th>\n",
       "      <th>median_age</th>\n",
       "      <th>gini_coefficient</th>\n",
       "      <th>avg_temperature</th>\n",
       "      <th>lt_alcohol_per_capita</th>\n",
       "      <th>ladder_score_predicted</th>\n",
       "    </tr>\n",
       "  </thead>\n",
       "  <tbody>\n",
       "    <tr>\n",
       "      <th>0</th>\n",
       "      <td>Finland</td>\n",
       "      <td>Europe</td>\n",
       "      <td>7.804</td>\n",
       "      <td>10.792</td>\n",
       "      <td>0.969</td>\n",
       "      <td>71.150</td>\n",
       "      <td>0.961</td>\n",
       "      <td>-0.019</td>\n",
       "      <td>0.182</td>\n",
       "      <td>16.60</td>\n",
       "      <td>7.16</td>\n",
       "      <td>43.2</td>\n",
       "      <td>27.7</td>\n",
       "      <td>3.24</td>\n",
       "      <td>8.23</td>\n",
       "      <td>6.585794</td>\n",
       "    </tr>\n",
       "    <tr>\n",
       "      <th>1</th>\n",
       "      <td>Denmark</td>\n",
       "      <td>Europe</td>\n",
       "      <td>7.586</td>\n",
       "      <td>10.962</td>\n",
       "      <td>0.954</td>\n",
       "      <td>71.250</td>\n",
       "      <td>0.934</td>\n",
       "      <td>0.134</td>\n",
       "      <td>0.196</td>\n",
       "      <td>138.00</td>\n",
       "      <td>5.14</td>\n",
       "      <td>42.2</td>\n",
       "      <td>27.7</td>\n",
       "      <td>9.77</td>\n",
       "      <td>9.16</td>\n",
       "      <td>6.715253</td>\n",
       "    </tr>\n",
       "    <tr>\n",
       "      <th>2</th>\n",
       "      <td>Iceland</td>\n",
       "      <td>Europe</td>\n",
       "      <td>7.530</td>\n",
       "      <td>10.896</td>\n",
       "      <td>0.983</td>\n",
       "      <td>72.050</td>\n",
       "      <td>0.936</td>\n",
       "      <td>0.211</td>\n",
       "      <td>0.668</td>\n",
       "      <td>3.50</td>\n",
       "      <td>3.56</td>\n",
       "      <td>37.8</td>\n",
       "      <td>26.1</td>\n",
       "      <td>2.11</td>\n",
       "      <td>7.72</td>\n",
       "      <td>6.664993</td>\n",
       "    </tr>\n",
       "    <tr>\n",
       "      <th>3</th>\n",
       "      <td>Israel</td>\n",
       "      <td>Middle East</td>\n",
       "      <td>7.473</td>\n",
       "      <td>10.639</td>\n",
       "      <td>0.943</td>\n",
       "      <td>72.697</td>\n",
       "      <td>0.809</td>\n",
       "      <td>-0.023</td>\n",
       "      <td>0.708</td>\n",
       "      <td>412.24</td>\n",
       "      <td>3.39</td>\n",
       "      <td>30.1</td>\n",
       "      <td>38.6</td>\n",
       "      <td>20.23</td>\n",
       "      <td>3.07</td>\n",
       "      <td>6.469280</td>\n",
       "    </tr>\n",
       "    <tr>\n",
       "      <th>4</th>\n",
       "      <td>Netherlands</td>\n",
       "      <td>Europe</td>\n",
       "      <td>7.403</td>\n",
       "      <td>10.942</td>\n",
       "      <td>0.930</td>\n",
       "      <td>71.550</td>\n",
       "      <td>0.887</td>\n",
       "      <td>0.213</td>\n",
       "      <td>0.379</td>\n",
       "      <td>420.38</td>\n",
       "      <td>3.56</td>\n",
       "      <td>42.2</td>\n",
       "      <td>29.2</td>\n",
       "      <td>11.72</td>\n",
       "      <td>8.23</td>\n",
       "      <td>6.700023</td>\n",
       "    </tr>\n",
       "  </tbody>\n",
       "</table>\n",
       "</div>"
      ],
      "text/plain": [
       "       country       region  ladder_score  logged_GPD_per_capita  \\\n",
       "0      Finland       Europe         7.804                 10.792   \n",
       "1      Denmark       Europe         7.586                 10.962   \n",
       "2      Iceland       Europe         7.530                 10.896   \n",
       "3       Israel  Middle East         7.473                 10.639   \n",
       "4  Netherlands       Europe         7.403                 10.942   \n",
       "\n",
       "   social_support  healthy_life_expectancy  freedom_life_choices  generosity  \\\n",
       "0           0.969                   71.150                 0.961      -0.019   \n",
       "1           0.954                   71.250                 0.934       0.134   \n",
       "2           0.983                   72.050                 0.936       0.211   \n",
       "3           0.943                   72.697                 0.809      -0.023   \n",
       "4           0.930                   71.550                 0.887       0.213   \n",
       "\n",
       "   perceptions_corruption  population_density  unemployment_rate  median_age  \\\n",
       "0                   0.182               16.60               7.16        43.2   \n",
       "1                   0.196              138.00               5.14        42.2   \n",
       "2                   0.668                3.50               3.56        37.8   \n",
       "3                   0.708              412.24               3.39        30.1   \n",
       "4                   0.379              420.38               3.56        42.2   \n",
       "\n",
       "   gini_coefficient  avg_temperature  lt_alcohol_per_capita  \\\n",
       "0              27.7             3.24                   8.23   \n",
       "1              27.7             9.77                   9.16   \n",
       "2              26.1             2.11                   7.72   \n",
       "3              38.6            20.23                   3.07   \n",
       "4              29.2            11.72                   8.23   \n",
       "\n",
       "   ladder_score_predicted  \n",
       "0                6.585794  \n",
       "1                6.715253  \n",
       "2                6.664993  \n",
       "3                6.469280  \n",
       "4                6.700023  "
      ]
     },
     "execution_count": 30,
     "metadata": {},
     "output_type": "execute_result"
    }
   ],
   "source": [
    "# Create a copy of the original data\n",
    "df_happiness_predicted = df_gdp.copy()\n",
    "\n",
    "# Add a column with the predicted ladder score values\n",
    "df_happiness_predicted[\"ladder_score_predicted\"] = predicted_y_values\n",
    "\n",
    "# Display sample data\n",
    "df_happiness_predicted.head()"
   ]
  },
  {
   "cell_type": "code",
   "execution_count": 31,
   "metadata": {},
   "outputs": [
    {
     "data": {},
     "metadata": {},
     "output_type": "display_data"
    },
    {
     "data": {
      "application/vnd.holoviews_exec.v0+json": "",
      "text/html": [
       "<div id='p1193'>\n",
       "  <div id=\"ef2eb68a-2de5-4255-b692-1e4de7ac323d\" data-root-id=\"p1193\" style=\"display: contents;\"></div>\n",
       "</div>\n",
       "<script type=\"application/javascript\">(function(root) {\n",
       "  var docs_json = {\"f90a6b54-c2af-473a-92e4-de14d183843f\":{\"version\":\"3.4.3\",\"title\":\"Bokeh Application\",\"roots\":[{\"type\":\"object\",\"name\":\"Row\",\"id\":\"p1193\",\"attributes\":{\"name\":\"Row01320\",\"tags\":[\"embedded\"],\"stylesheets\":[\"\\n:host(.pn-loading):before, .pn-loading:before {\\n  background-color: #c3c3c3;\\n  mask-size: auto calc(min(50%, 400px));\\n  -webkit-mask-size: auto calc(min(50%, 400px));\\n}\",{\"type\":\"object\",\"name\":\"ImportedStyleSheet\",\"id\":\"p1196\",\"attributes\":{\"url\":\"https://cdn.holoviz.org/panel/1.4.5/dist/css/loading.css\"}},{\"type\":\"object\",\"name\":\"ImportedStyleSheet\",\"id\":\"p1252\",\"attributes\":{\"url\":\"https://cdn.holoviz.org/panel/1.4.5/dist/css/listpanel.css\"}},{\"type\":\"object\",\"name\":\"ImportedStyleSheet\",\"id\":\"p1194\",\"attributes\":{\"url\":\"https://cdn.holoviz.org/panel/1.4.5/dist/bundled/theme/default.css\"}},{\"type\":\"object\",\"name\":\"ImportedStyleSheet\",\"id\":\"p1195\",\"attributes\":{\"url\":\"https://cdn.holoviz.org/panel/1.4.5/dist/bundled/theme/native.css\"}}],\"min_width\":700,\"margin\":0,\"sizing_mode\":\"stretch_width\",\"align\":\"start\",\"children\":[{\"type\":\"object\",\"name\":\"Spacer\",\"id\":\"p1197\",\"attributes\":{\"name\":\"HSpacer01327\",\"stylesheets\":[\"\\n:host(.pn-loading):before, .pn-loading:before {\\n  background-color: #c3c3c3;\\n  mask-size: auto calc(min(50%, 400px));\\n  -webkit-mask-size: auto calc(min(50%, 400px));\\n}\",{\"id\":\"p1196\"},{\"id\":\"p1194\"},{\"id\":\"p1195\"}],\"margin\":0,\"sizing_mode\":\"stretch_width\",\"align\":\"start\"}},{\"type\":\"object\",\"name\":\"Figure\",\"id\":\"p1205\",\"attributes\":{\"width\":700,\"height\":300,\"margin\":[5,10],\"sizing_mode\":\"fixed\",\"align\":\"start\",\"x_range\":{\"type\":\"object\",\"name\":\"Range1d\",\"id\":\"p1198\",\"attributes\":{\"tags\":[[[\"logged_GPD_per_capita\",\"logged_GPD_per_capita\",null]],[]],\"start\":5.527,\"end\":11.66,\"reset_start\":5.527,\"reset_end\":11.66}},\"y_range\":{\"type\":\"object\",\"name\":\"Range1d\",\"id\":\"p1199\",\"attributes\":{\"tags\":[[[\"ladder_score_predicted\",\"ladder_score_predicted\",null]],{\"type\":\"map\",\"entries\":[[\"invert_yaxis\",false],[\"autorange\",false]]}],\"start\":2.1093093488849792,\"end\":7.713843933813576,\"reset_start\":2.1093093488849792,\"reset_end\":7.713843933813576}},\"x_scale\":{\"type\":\"object\",\"name\":\"LinearScale\",\"id\":\"p1215\"},\"y_scale\":{\"type\":\"object\",\"name\":\"LinearScale\",\"id\":\"p1216\"},\"title\":{\"type\":\"object\",\"name\":\"Title\",\"id\":\"p1208\",\"attributes\":{\"text_color\":\"black\",\"text_font_size\":\"12pt\"}},\"renderers\":[{\"type\":\"object\",\"name\":\"GlyphRenderer\",\"id\":\"p1245\",\"attributes\":{\"data_source\":{\"type\":\"object\",\"name\":\"ColumnDataSource\",\"id\":\"p1236\",\"attributes\":{\"selected\":{\"type\":\"object\",\"name\":\"Selection\",\"id\":\"p1237\",\"attributes\":{\"indices\":[],\"line_indices\":[]}},\"selection_policy\":{\"type\":\"object\",\"name\":\"UnionRenderers\",\"id\":\"p1238\"},\"data\":{\"type\":\"map\",\"entries\":[[\"logged_GPD_per_capita\",{\"type\":\"ndarray\",\"array\":{\"type\":\"bytes\",\"data\":\"L90kBoGVJUAGgZVDi+wlQJhuEoPAyiVAukkMAitHJUD8qfHSTeIlQGq8dJMYxCVAkxgEVg4tJkCHFtnO91MmQFK4HoXrUSdAbef7qfFSJUA/NV66ScwlQDEIrBxapCVAsp3vp8aLJUDn+6nx0g0nQH9qvHSTGCZANV66SQzCJUDjpZvEILAlQJzEILByaCVAiUFg5dAiJUD0/dR46WYlQJMYBFYOLSVAgZVDi2znI0AhsHJoka0kQDEIrBxaJCdACtejcD1KJkBt5/up8RIkQNv5fmq8tCRArkfhehRuJUCiRbbz/RQlQBSuR+F6FCVA+FPjpZtEJUDufD81XjokQDMzMzMzsyNA30+Nl25SJUBcj8L1KJwkQA4tsp3v5yRAI9v5fmo8IUA9CtejcL0kQAisHFpkOyJAokW28/1UJEBoke18P7UjQEa28/3UOCVACKwcWmQ7JUA730+Nl64kQESLbOf7KSNAIbByaJEtIkBKDAIrh9YkQF66SQwC6yNAhetRuB5FIUBMN4lBYOUhQEoMAiuHViRAz/dT46XbJED6fmq8dJMkQESLbOf76SNAjZduEoOAI0BYObTIdr4iQEa28/3U+CBAc2iR7Xz/IkBg5dAi23kjQG3n+6nxkiJAhetRuB4FI0DHSzeJQaAjQBSuR+F6VCJAuB6F61H4IUDsUbgehWskQAisHFpkOyNAXrpJDAIrI0CsHFpkO58jQArXo3A9iiJA5/up8dLNIkBoke18P/UhQAaBlUOLLCRAUI2XbhKDIEB7FK5H4TojQNNNYhBYeSBAmpmZmZmZIkD8qfHSTSIjQIXrUbgexSJA2/l+arz0IkDP91PjpRsWQAaBlUOL7CFAmG4Sg8BKI0CF61G4HoUfQFTjpZvEoCJAbef7qfESI0DLoUW28/0gQMl2vp8abyBAEFg5tMh2HEAZBFYOLTIiQBkEVg4t8iFAuB6F61E4I0CPwvUoXE8gQDvfT42XLiFAXrpJDAKrHkDLoUW28z0iQP7UeOkmMSFAFK5H4XoUIUB3vp8aL10cQLByaJHtfCJA0SLb+X7qIEAIrBxaZPsiQHe+nxov3R5AJQaBlUMLHUCF61G4HsUgQNv5fmq8NCBAH4XrUbheIUAfhetRuJ4eQJZDi2znuyJA/tR46SaxHkDD9Shcj0IiQNv5fmq89B5Az/dT46UbHUD4U+Olm4QhQClcj8L1KB1A2c73U+MlIEAhsHJokW0fQGZmZmZmJiBAaJHtfD81HUA1XrpJDEIjQKrx0k1ikB5A+n5qvHSTHUDb+X5qvPQiQLKd76fGSx1A\"},\"shape\":[123],\"dtype\":\"float64\",\"order\":\"little\"}],[\"ladder_score_predicted\",{\"type\":\"ndarray\",\"array\":{\"type\":\"bytes\",\"data\":\"et2xWtpXGkCYd3Npa9waQNxTLtnzqBpAKjmdAIvgGUCGdCDR0swaQA7FXqnQnhpAjqSxwqw+G0DUSSCf8HkbQKQvXvq4/BxAgkmWfHryGUAeYdS8SqsaQFYI9513bhpAKDSWYwlJGkBojpw4ApUcQGqeC5J7HxtADF6BJLKbGkCqGPAZZ4AaQCgDq+86ExpAqFRDSi2pGUDm9QQM5BAaQLxXluLFuBlAa1wTXdHIF0AUC8ATmvYYQJD7H+5RtxxAhKAEqB9rG0B7KXTkGQsYQKHzxuSEARlAct4L3c4bGkBQ3WxJH5QZQI6DNahXkxlAaHiI2qTcGUCCKBpiJUcYQIuZBSFHeRdAwO9e27LxGUB0H2aqFtwYQP4CZt5/TxlAD6mlRo+4E0Bw6XOZxg4ZQF9CUuTmPBVAs2NYIbJvGECPAOOlZXwXQBJoj161yhlA1iikhJvOGUCVvi5WKfgYQJKjE1tKqBZABst749gnFUBfFwx1/DQZQLHQlsVGzhdA3p5S+9DFE0DDW/8X5bkUQPZw/gQJchhA6Jg1wcg8GUCkKbn11M4YQDAdKIO3zBdA7+OdyBMsF0BOA6wbiAQWQJRhGyagURNABYohFpFnFkAjVc6Y8CEXQD82S5Q/whVATmWCAyVwFkCqoAXUbFwXQExw6r8cYxVApFT/ZL/WFEDc0NvWAZIYQDGPbcTNwhZAE1eCndmpFkAn7ZaR3VoXQG5Ant/9tBVA6YcoAO0bFkAeOrOdEdIUQCixQ2EXMhhAPb5gTkWeEkBxNTYjBsIWQOsURVd0jxJAC8UaxGLMFUBEYdXol5wWQBqSe0urDhZAMC2X3DBXFkAW6aluX5wEQE9EBunPxBRAzhPqqDLaFkDe6hSFEHkRQJitIZVN1xVAqNxYBDOFFkAd40RybFkTQNkR8r7bfxJAKh7Kx5ZKDkDP8m2O3S4VQJofZ9ZjzRRAq3Qh/R++FkAeVYqzgk8SQLUxz0WBoxNAVz0HYvfSEEAkA2cKzUAVQHry42tnpxNARVDIJ7x7E0B8lvpKmSMOQNYi/3+3oBVAeZANhMo7E0D8u2YMVGEWQEVrnz0t+RBAusp9aLssD0B1+ESL3QITQO4ZTPT1JhJAjSYieM7sE0BMCG/Tm8kQQIpCl/WhABZA3VdTKaXXEEDtKlm10UcVQJp7mLkcCxFA2AJpj69FD0BSGCISgyYUQHAgCO/1WQ9AE+8GsVgQEkCJ2hsJIWcRQNNIPlIgERJAhoo4DK1sD0D9HT308MwWQL8faAKxvhBAMg0B7Cj8D0AwLZfcMFcWQK73u8H8jg9A\"},\"shape\":[123],\"dtype\":\"float64\",\"order\":\"little\"}]]}}},\"view\":{\"type\":\"object\",\"name\":\"CDSView\",\"id\":\"p1246\",\"attributes\":{\"filter\":{\"type\":\"object\",\"name\":\"AllIndices\",\"id\":\"p1247\"}}},\"glyph\":{\"type\":\"object\",\"name\":\"Line\",\"id\":\"p1242\",\"attributes\":{\"tags\":[\"apply_ranges\"],\"x\":{\"type\":\"field\",\"field\":\"logged_GPD_per_capita\"},\"y\":{\"type\":\"field\",\"field\":\"ladder_score_predicted\"},\"line_color\":\"red\",\"line_width\":2}},\"selection_glyph\":{\"type\":\"object\",\"name\":\"Line\",\"id\":\"p1248\",\"attributes\":{\"tags\":[\"apply_ranges\"],\"x\":{\"type\":\"field\",\"field\":\"logged_GPD_per_capita\"},\"y\":{\"type\":\"field\",\"field\":\"ladder_score_predicted\"},\"line_color\":\"red\",\"line_width\":2}},\"nonselection_glyph\":{\"type\":\"object\",\"name\":\"Line\",\"id\":\"p1243\",\"attributes\":{\"tags\":[\"apply_ranges\"],\"x\":{\"type\":\"field\",\"field\":\"logged_GPD_per_capita\"},\"y\":{\"type\":\"field\",\"field\":\"ladder_score_predicted\"},\"line_color\":\"red\",\"line_alpha\":0.1,\"line_width\":2}},\"muted_glyph\":{\"type\":\"object\",\"name\":\"Line\",\"id\":\"p1244\",\"attributes\":{\"tags\":[\"apply_ranges\"],\"x\":{\"type\":\"field\",\"field\":\"logged_GPD_per_capita\"},\"y\":{\"type\":\"field\",\"field\":\"ladder_score_predicted\"},\"line_color\":\"red\",\"line_alpha\":0.2,\"line_width\":2}}}}],\"toolbar\":{\"type\":\"object\",\"name\":\"Toolbar\",\"id\":\"p1214\",\"attributes\":{\"tools\":[{\"type\":\"object\",\"name\":\"WheelZoomTool\",\"id\":\"p1203\",\"attributes\":{\"tags\":[\"hv_created\"],\"renderers\":\"auto\",\"zoom_together\":\"none\"}},{\"type\":\"object\",\"name\":\"HoverTool\",\"id\":\"p1204\",\"attributes\":{\"tags\":[\"hv_created\"],\"renderers\":[{\"id\":\"p1245\"}],\"tooltips\":[[\"logged_GPD_per_capita\",\"@{logged_GPD_per_capita}\"],[\"ladder_score_predicted\",\"@{ladder_score_predicted}\"]]}},{\"type\":\"object\",\"name\":\"SaveTool\",\"id\":\"p1227\"},{\"type\":\"object\",\"name\":\"PanTool\",\"id\":\"p1228\"},{\"type\":\"object\",\"name\":\"BoxZoomTool\",\"id\":\"p1229\",\"attributes\":{\"overlay\":{\"type\":\"object\",\"name\":\"BoxAnnotation\",\"id\":\"p1230\",\"attributes\":{\"syncable\":false,\"level\":\"overlay\",\"visible\":false,\"left\":{\"type\":\"number\",\"value\":\"nan\"},\"right\":{\"type\":\"number\",\"value\":\"nan\"},\"top\":{\"type\":\"number\",\"value\":\"nan\"},\"bottom\":{\"type\":\"number\",\"value\":\"nan\"},\"left_units\":\"canvas\",\"right_units\":\"canvas\",\"top_units\":\"canvas\",\"bottom_units\":\"canvas\",\"line_color\":\"black\",\"line_alpha\":1.0,\"line_width\":2,\"line_dash\":[4,4],\"fill_color\":\"lightgrey\",\"fill_alpha\":0.5}}}},{\"type\":\"object\",\"name\":\"ResetTool\",\"id\":\"p1235\"}],\"active_drag\":{\"id\":\"p1228\"},\"active_scroll\":{\"id\":\"p1203\"}}},\"left\":[{\"type\":\"object\",\"name\":\"LinearAxis\",\"id\":\"p1222\",\"attributes\":{\"ticker\":{\"type\":\"object\",\"name\":\"BasicTicker\",\"id\":\"p1223\",\"attributes\":{\"mantissas\":[1,2,5]}},\"formatter\":{\"type\":\"object\",\"name\":\"BasicTickFormatter\",\"id\":\"p1224\"},\"axis_label\":\"ladder_score_predicted\",\"major_label_policy\":{\"type\":\"object\",\"name\":\"AllLabels\",\"id\":\"p1225\"}}}],\"below\":[{\"type\":\"object\",\"name\":\"LinearAxis\",\"id\":\"p1217\",\"attributes\":{\"ticker\":{\"type\":\"object\",\"name\":\"BasicTicker\",\"id\":\"p1218\",\"attributes\":{\"mantissas\":[1,2,5]}},\"formatter\":{\"type\":\"object\",\"name\":\"BasicTickFormatter\",\"id\":\"p1219\"},\"axis_label\":\"logged_GPD_per_capita\",\"major_label_policy\":{\"type\":\"object\",\"name\":\"AllLabels\",\"id\":\"p1220\"}}}],\"center\":[{\"type\":\"object\",\"name\":\"Grid\",\"id\":\"p1221\",\"attributes\":{\"axis\":{\"id\":\"p1217\"},\"grid_line_color\":null}},{\"type\":\"object\",\"name\":\"Grid\",\"id\":\"p1226\",\"attributes\":{\"dimension\":1,\"axis\":{\"id\":\"p1222\"},\"grid_line_color\":null}}],\"min_border_top\":10,\"min_border_bottom\":10,\"min_border_left\":10,\"min_border_right\":10,\"output_backend\":\"webgl\"}},{\"type\":\"object\",\"name\":\"Spacer\",\"id\":\"p1250\",\"attributes\":{\"name\":\"HSpacer01328\",\"stylesheets\":[\"\\n:host(.pn-loading):before, .pn-loading:before {\\n  background-color: #c3c3c3;\\n  mask-size: auto calc(min(50%, 400px));\\n  -webkit-mask-size: auto calc(min(50%, 400px));\\n}\",{\"id\":\"p1196\"},{\"id\":\"p1194\"},{\"id\":\"p1195\"}],\"margin\":0,\"sizing_mode\":\"stretch_width\",\"align\":\"start\"}}]}}],\"defs\":[{\"type\":\"model\",\"name\":\"ReactiveHTML1\"},{\"type\":\"model\",\"name\":\"FlexBox1\",\"properties\":[{\"name\":\"align_content\",\"kind\":\"Any\",\"default\":\"flex-start\"},{\"name\":\"align_items\",\"kind\":\"Any\",\"default\":\"flex-start\"},{\"name\":\"flex_direction\",\"kind\":\"Any\",\"default\":\"row\"},{\"name\":\"flex_wrap\",\"kind\":\"Any\",\"default\":\"wrap\"},{\"name\":\"gap\",\"kind\":\"Any\",\"default\":\"\"},{\"name\":\"justify_content\",\"kind\":\"Any\",\"default\":\"flex-start\"}]},{\"type\":\"model\",\"name\":\"FloatPanel1\",\"properties\":[{\"name\":\"config\",\"kind\":\"Any\",\"default\":{\"type\":\"map\"}},{\"name\":\"contained\",\"kind\":\"Any\",\"default\":true},{\"name\":\"position\",\"kind\":\"Any\",\"default\":\"right-top\"},{\"name\":\"offsetx\",\"kind\":\"Any\",\"default\":null},{\"name\":\"offsety\",\"kind\":\"Any\",\"default\":null},{\"name\":\"theme\",\"kind\":\"Any\",\"default\":\"primary\"},{\"name\":\"status\",\"kind\":\"Any\",\"default\":\"normalized\"}]},{\"type\":\"model\",\"name\":\"GridStack1\",\"properties\":[{\"name\":\"mode\",\"kind\":\"Any\",\"default\":\"warn\"},{\"name\":\"ncols\",\"kind\":\"Any\",\"default\":null},{\"name\":\"nrows\",\"kind\":\"Any\",\"default\":null},{\"name\":\"allow_resize\",\"kind\":\"Any\",\"default\":true},{\"name\":\"allow_drag\",\"kind\":\"Any\",\"default\":true},{\"name\":\"state\",\"kind\":\"Any\",\"default\":[]}]},{\"type\":\"model\",\"name\":\"drag1\",\"properties\":[{\"name\":\"slider_width\",\"kind\":\"Any\",\"default\":5},{\"name\":\"slider_color\",\"kind\":\"Any\",\"default\":\"black\"},{\"name\":\"value\",\"kind\":\"Any\",\"default\":50}]},{\"type\":\"model\",\"name\":\"click1\",\"properties\":[{\"name\":\"terminal_output\",\"kind\":\"Any\",\"default\":\"\"},{\"name\":\"debug_name\",\"kind\":\"Any\",\"default\":\"\"},{\"name\":\"clears\",\"kind\":\"Any\",\"default\":0}]},{\"type\":\"model\",\"name\":\"FastWrapper1\",\"properties\":[{\"name\":\"object\",\"kind\":\"Any\",\"default\":null},{\"name\":\"style\",\"kind\":\"Any\",\"default\":null}]},{\"type\":\"model\",\"name\":\"NotificationAreaBase1\",\"properties\":[{\"name\":\"js_events\",\"kind\":\"Any\",\"default\":{\"type\":\"map\"}},{\"name\":\"position\",\"kind\":\"Any\",\"default\":\"bottom-right\"},{\"name\":\"_clear\",\"kind\":\"Any\",\"default\":0}]},{\"type\":\"model\",\"name\":\"NotificationArea1\",\"properties\":[{\"name\":\"js_events\",\"kind\":\"Any\",\"default\":{\"type\":\"map\"}},{\"name\":\"notifications\",\"kind\":\"Any\",\"default\":[]},{\"name\":\"position\",\"kind\":\"Any\",\"default\":\"bottom-right\"},{\"name\":\"_clear\",\"kind\":\"Any\",\"default\":0},{\"name\":\"types\",\"kind\":\"Any\",\"default\":[{\"type\":\"map\",\"entries\":[[\"type\",\"warning\"],[\"background\",\"#ffc107\"],[\"icon\",{\"type\":\"map\",\"entries\":[[\"className\",\"fas fa-exclamation-triangle\"],[\"tagName\",\"i\"],[\"color\",\"white\"]]}]]},{\"type\":\"map\",\"entries\":[[\"type\",\"info\"],[\"background\",\"#007bff\"],[\"icon\",{\"type\":\"map\",\"entries\":[[\"className\",\"fas fa-info-circle\"],[\"tagName\",\"i\"],[\"color\",\"white\"]]}]]}]}]},{\"type\":\"model\",\"name\":\"Notification\",\"properties\":[{\"name\":\"background\",\"kind\":\"Any\",\"default\":null},{\"name\":\"duration\",\"kind\":\"Any\",\"default\":3000},{\"name\":\"icon\",\"kind\":\"Any\",\"default\":null},{\"name\":\"message\",\"kind\":\"Any\",\"default\":\"\"},{\"name\":\"notification_type\",\"kind\":\"Any\",\"default\":null},{\"name\":\"_destroyed\",\"kind\":\"Any\",\"default\":false}]},{\"type\":\"model\",\"name\":\"TemplateActions1\",\"properties\":[{\"name\":\"open_modal\",\"kind\":\"Any\",\"default\":0},{\"name\":\"close_modal\",\"kind\":\"Any\",\"default\":0}]},{\"type\":\"model\",\"name\":\"BootstrapTemplateActions1\",\"properties\":[{\"name\":\"open_modal\",\"kind\":\"Any\",\"default\":0},{\"name\":\"close_modal\",\"kind\":\"Any\",\"default\":0}]},{\"type\":\"model\",\"name\":\"TemplateEditor1\",\"properties\":[{\"name\":\"layout\",\"kind\":\"Any\",\"default\":[]}]},{\"type\":\"model\",\"name\":\"MaterialTemplateActions1\",\"properties\":[{\"name\":\"open_modal\",\"kind\":\"Any\",\"default\":0},{\"name\":\"close_modal\",\"kind\":\"Any\",\"default\":0}]},{\"type\":\"model\",\"name\":\"copy_to_clipboard1\",\"properties\":[{\"name\":\"fill\",\"kind\":\"Any\",\"default\":\"none\"},{\"name\":\"value\",\"kind\":\"Any\",\"default\":null}]}]}};\n",
       "  var render_items = [{\"docid\":\"f90a6b54-c2af-473a-92e4-de14d183843f\",\"roots\":{\"p1193\":\"ef2eb68a-2de5-4255-b692-1e4de7ac323d\"},\"root_ids\":[\"p1193\"]}];\n",
       "  var docs = Object.values(docs_json)\n",
       "  if (!docs) {\n",
       "    return\n",
       "  }\n",
       "  const py_version = docs[0].version.replace('rc', '-rc.').replace('.dev', '-dev.')\n",
       "  async function embed_document(root) {\n",
       "    var Bokeh = get_bokeh(root)\n",
       "    await Bokeh.embed.embed_items_notebook(docs_json, render_items);\n",
       "    for (const render_item of render_items) {\n",
       "      for (const root_id of render_item.root_ids) {\n",
       "\tconst id_el = document.getElementById(root_id)\n",
       "\tif (id_el.children.length && id_el.children[0].hasAttribute('data-root-id')) {\n",
       "\t  const root_el = id_el.children[0]\n",
       "\t  root_el.id = root_el.id + '-rendered'\n",
       "\t  for (const child of root_el.children) {\n",
       "            // Ensure JupyterLab does not capture keyboard shortcuts\n",
       "            // see: https://jupyterlab.readthedocs.io/en/4.1.x/extension/notebook.html#keyboard-interaction-model\n",
       "\t    child.setAttribute('data-lm-suppress-shortcuts', 'true')\n",
       "\t  }\n",
       "\t}\n",
       "      }\n",
       "    }\n",
       "  }\n",
       "  function get_bokeh(root) {\n",
       "    if (root.Bokeh === undefined) {\n",
       "      return null\n",
       "    } else if (root.Bokeh.version !== py_version) {\n",
       "      if (root.Bokeh.versions === undefined || !root.Bokeh.versions.has(py_version)) {\n",
       "\treturn null\n",
       "      }\n",
       "      return root.Bokeh.versions.get(py_version);\n",
       "    } else if (root.Bokeh.version === py_version) {\n",
       "      return root.Bokeh\n",
       "    }\n",
       "    return null\n",
       "  }\n",
       "  function is_loaded(root) {\n",
       "    var Bokeh = get_bokeh(root)\n",
       "    return (Bokeh != null && Bokeh.Panel !== undefined)\n",
       "  }\n",
       "  if (is_loaded(root)) {\n",
       "    embed_document(root);\n",
       "  } else {\n",
       "    var attempts = 0;\n",
       "    var timer = setInterval(function(root) {\n",
       "      if (is_loaded(root)) {\n",
       "        clearInterval(timer);\n",
       "        embed_document(root);\n",
       "      } else if (document.readyState == \"complete\") {\n",
       "        attempts++;\n",
       "        if (attempts > 200) {\n",
       "          clearInterval(timer);\n",
       "\t  var Bokeh = get_bokeh(root)\n",
       "\t  if (Bokeh == null || Bokeh.Panel == null) {\n",
       "            console.warn(\"Panel: ERROR: Unable to run Panel code because Bokeh or Panel library is missing\");\n",
       "\t  } else {\n",
       "\t    console.warn(\"Panel: WARNING: Attempting to render but not all required libraries could be resolved.\")\n",
       "\t    embed_document(root)\n",
       "\t  }\n",
       "        }\n",
       "      }\n",
       "    }, 25, root)\n",
       "  }\n",
       "})(window);</script>"
      ],
      "text/plain": [
       ":Curve   [logged_GPD_per_capita]   (ladder_score_predicted)"
      ]
     },
     "execution_count": 31,
     "metadata": {
      "application/vnd.holoviews_exec.v0+json": {
       "id": "p1193"
      }
     },
     "output_type": "execute_result"
    }
   ],
   "source": [
    "# Create a line plot of gdp versus the predicted ladder score values\n",
    "best_fit_line = df_happiness_predicted.hvplot.line(\n",
    "    x = \"logged_GPD_per_capita\",\n",
    "    y = \"ladder_score_predicted\",\n",
    "    color = \"red\"\n",
    ")\n",
    "best_fit_line"
   ]
  },
  {
   "cell_type": "code",
   "execution_count": 32,
   "metadata": {},
   "outputs": [
    {
     "data": {},
     "metadata": {},
     "output_type": "display_data"
    },
    {
     "data": {
      "application/vnd.holoviews_exec.v0+json": "",
      "text/html": [
       "<div id='p1256'>\n",
       "  <div id=\"d342d5c6-bd15-4e2f-bf69-48845f924bbb\" data-root-id=\"p1256\" style=\"display: contents;\"></div>\n",
       "</div>\n",
       "<script type=\"application/javascript\">(function(root) {\n",
       "  var docs_json = {\"d7e94d6a-19fe-42cf-bec7-011300d9cab5\":{\"version\":\"3.4.3\",\"title\":\"Bokeh Application\",\"roots\":[{\"type\":\"object\",\"name\":\"Row\",\"id\":\"p1256\",\"attributes\":{\"name\":\"Row01352\",\"tags\":[\"embedded\"],\"stylesheets\":[\"\\n:host(.pn-loading):before, .pn-loading:before {\\n  background-color: #c3c3c3;\\n  mask-size: auto calc(min(50%, 400px));\\n  -webkit-mask-size: auto calc(min(50%, 400px));\\n}\",{\"type\":\"object\",\"name\":\"ImportedStyleSheet\",\"id\":\"p1259\",\"attributes\":{\"url\":\"https://cdn.holoviz.org/panel/1.4.5/dist/css/loading.css\"}},{\"type\":\"object\",\"name\":\"ImportedStyleSheet\",\"id\":\"p1331\",\"attributes\":{\"url\":\"https://cdn.holoviz.org/panel/1.4.5/dist/css/listpanel.css\"}},{\"type\":\"object\",\"name\":\"ImportedStyleSheet\",\"id\":\"p1257\",\"attributes\":{\"url\":\"https://cdn.holoviz.org/panel/1.4.5/dist/bundled/theme/default.css\"}},{\"type\":\"object\",\"name\":\"ImportedStyleSheet\",\"id\":\"p1258\",\"attributes\":{\"url\":\"https://cdn.holoviz.org/panel/1.4.5/dist/bundled/theme/native.css\"}}],\"min_width\":700,\"margin\":0,\"sizing_mode\":\"stretch_width\",\"align\":\"start\",\"children\":[{\"type\":\"object\",\"name\":\"Spacer\",\"id\":\"p1260\",\"attributes\":{\"name\":\"HSpacer01358\",\"stylesheets\":[\"\\n:host(.pn-loading):before, .pn-loading:before {\\n  background-color: #c3c3c3;\\n  mask-size: auto calc(min(50%, 400px));\\n  -webkit-mask-size: auto calc(min(50%, 400px));\\n}\",{\"id\":\"p1259\"},{\"id\":\"p1257\"},{\"id\":\"p1258\"}],\"margin\":0,\"sizing_mode\":\"stretch_width\",\"align\":\"start\"}},{\"type\":\"object\",\"name\":\"Figure\",\"id\":\"p1271\",\"attributes\":{\"width\":700,\"height\":300,\"margin\":[5,10],\"sizing_mode\":\"fixed\",\"align\":\"start\",\"x_range\":{\"type\":\"object\",\"name\":\"Range1d\",\"id\":\"p1261\",\"attributes\":{\"tags\":[[[\"logged_GPD_per_capita\",\"logged_GPD_per_capita\",null]],[]],\"start\":5.264157142857143,\"end\":11.922842857142857,\"reset_start\":5.264157142857143,\"reset_end\":11.922842857142857}},\"y_range\":{\"type\":\"object\",\"name\":\"Range1d\",\"id\":\"p1262\",\"attributes\":{\"tags\":[[[\"ladder_score\",\"ladder_score\",null]],{\"type\":\"map\",\"entries\":[[\"invert_yaxis\",false],[\"autorange\",false]]}],\"start\":1.2645,\"end\":8.3985,\"reset_start\":1.2645,\"reset_end\":8.3985}},\"x_scale\":{\"type\":\"object\",\"name\":\"LinearScale\",\"id\":\"p1281\"},\"y_scale\":{\"type\":\"object\",\"name\":\"LinearScale\",\"id\":\"p1282\"},\"title\":{\"type\":\"object\",\"name\":\"Title\",\"id\":\"p1274\",\"attributes\":{\"text\":\"ladder_score vs health expectancy\",\"text_color\":\"black\",\"text_font_size\":\"12pt\"}},\"renderers\":[{\"type\":\"object\",\"name\":\"GlyphRenderer\",\"id\":\"p1311\",\"attributes\":{\"data_source\":{\"type\":\"object\",\"name\":\"ColumnDataSource\",\"id\":\"p1302\",\"attributes\":{\"selected\":{\"type\":\"object\",\"name\":\"Selection\",\"id\":\"p1303\",\"attributes\":{\"indices\":[],\"line_indices\":[]}},\"selection_policy\":{\"type\":\"object\",\"name\":\"UnionRenderers\",\"id\":\"p1304\"},\"data\":{\"type\":\"map\",\"entries\":[[\"logged_GPD_per_capita\",{\"type\":\"ndarray\",\"array\":{\"type\":\"bytes\",\"data\":\"L90kBoGVJUAGgZVDi+wlQJhuEoPAyiVAukkMAitHJUD8qfHSTeIlQGq8dJMYxCVAkxgEVg4tJkCHFtnO91MmQFK4HoXrUSdAbef7qfFSJUA/NV66ScwlQDEIrBxapCVAsp3vp8aLJUDn+6nx0g0nQH9qvHSTGCZANV66SQzCJUDjpZvEILAlQJzEILByaCVAiUFg5dAiJUD0/dR46WYlQJMYBFYOLSVAgZVDi2znI0AhsHJoka0kQDEIrBxaJCdACtejcD1KJkBt5/up8RIkQNv5fmq8tCRArkfhehRuJUCiRbbz/RQlQBSuR+F6FCVA+FPjpZtEJUDufD81XjokQDMzMzMzsyNA30+Nl25SJUBcj8L1KJwkQA4tsp3v5yRAI9v5fmo8IUA9CtejcL0kQAisHFpkOyJAokW28/1UJEBoke18P7UjQEa28/3UOCVACKwcWmQ7JUA730+Nl64kQESLbOf7KSNAIbByaJEtIkBKDAIrh9YkQF66SQwC6yNAhetRuB5FIUBMN4lBYOUhQEoMAiuHViRAz/dT46XbJED6fmq8dJMkQESLbOf76SNAjZduEoOAI0BYObTIdr4iQEa28/3U+CBAc2iR7Xz/IkBg5dAi23kjQG3n+6nxkiJAhetRuB4FI0DHSzeJQaAjQBSuR+F6VCJAuB6F61H4IUDsUbgehWskQAisHFpkOyNAXrpJDAIrI0CsHFpkO58jQArXo3A9iiJA5/up8dLNIkBoke18P/UhQAaBlUOLLCRAUI2XbhKDIEB7FK5H4TojQNNNYhBYeSBAmpmZmZmZIkD8qfHSTSIjQIXrUbgexSJA2/l+arz0IkDP91PjpRsWQAaBlUOL7CFAmG4Sg8BKI0CF61G4HoUfQFTjpZvEoCJAbef7qfESI0DLoUW28/0gQMl2vp8abyBAEFg5tMh2HEAZBFYOLTIiQBkEVg4t8iFAuB6F61E4I0CPwvUoXE8gQDvfT42XLiFAXrpJDAKrHkDLoUW28z0iQP7UeOkmMSFAFK5H4XoUIUB3vp8aL10cQLByaJHtfCJA0SLb+X7qIEAIrBxaZPsiQHe+nxov3R5AJQaBlUMLHUCF61G4HsUgQNv5fmq8NCBAH4XrUbheIUAfhetRuJ4eQJZDi2znuyJA/tR46SaxHkDD9Shcj0IiQNv5fmq89B5Az/dT46UbHUD4U+Olm4QhQClcj8L1KB1A2c73U+MlIEAhsHJokW0fQGZmZmZmJiBAaJHtfD81HUA1XrpJDEIjQKrx0k1ikB5A+n5qvHSTHUDb+X5qvPQiQLKd76fGSx1A\"},\"shape\":[123],\"dtype\":\"float64\",\"order\":\"little\"}],[\"ladder_score\",{\"type\":\"ndarray\",\"array\":{\"type\":\"bytes\",\"data\":\"nu+nxks3H0Dy0k1iEFgeQB+F61G4Hh5AMQisHFrkHUDpJjEIrJwdQBSuR+F6lB1Aw/UoXI9CHUD2KFyPwvUcQLbz/dR46RxAy6FFtvN9HEAX2c73U2McQOF6FK5HYRxA8tJNYhDYG0C+nxov3aQbQPp+arx0kxtAxSCwcmiRG0BWDi2ynW8bQMl2vp8aLxtAWmQ7308NG0C+nxov3aQaQJqZmZmZmRpAVg4tsp1vGkBCYOXQIlsaQAwCK4cWWRpAYhBYObRIGkBg5dAi2/kZQMdLN4lB4BlAJzEIrBzaGUBSuB6F69EZQFg5tMh2vhlAH4XrUbieGUC8dJMYBFYZQFK4HoXrURlAMzMzMzMzGUCPwvUoXA8ZQArXo3A9ChlA8KfGSzcJGUAnMQisHNoYQJqZmZmZmRhA+n5qvHSTGED6fmq8dJMYQIXrUbgehRhAarx0kxiEGEAAAAAAAIAYQAAAAAAAgBhAsHJoke18GEBEi2zn+ykYQH9qvHSTGBhAZDvfT40XGEB1kxgEVg4YQD81XrpJDBhArBxaZDvfF0DTTWIQWLkXQM/3U+OlmxdArBxaZDtfF0Bcj8L1KFwXQM3MzMzMTBdALbKd76dGF0ASg8DKoUUXQFpkO99PDRdAwcqhRbbzFkAX2c73U+MWQB1aZDvfzxZAI9v5fmq8FkC+nxov3aQWQNV46SYxiBZAhetRuB6FFkAtsp3vp0YWQCPb+X5qPBZAtMh2vp8aFkBkO99PjRcWQHe+nxov3RVAcT0K16NwFUCR7Xw/NV4VQFK4HoXrURVAN4lBYOVQFUDP91PjpRsVQM/3U+OlGxVAmpmZmZkZFUDy0k1iENgUQIts5/upcRRAVg4tsp1vFEB9PzVeukkUQGIQWDm0SBRApHA9CtcjFEAGgZVDi+wTQDEIrBxa5BNAN4lBYOXQE0DdJAaBlcMTQOkmMQisnBNAGy/dJAaBE0DsUbgehWsTQEw3iUFg5RJAWmQ730+NEkCgGi/dJIYSQOxRuB6FaxJAuB6F61E4EkAbL90kBgESQLByaJHt/BFAppvEILDyEUD4U+Olm8QRQO58PzVeuhFASgwCK4eWEUDfT42XbpIRQOXQItv5fhFAVOOlm8QgEUCYbhKDwMoQQK5H4XoUrhBAPzVeukmMEEB7FK5H4XoQQHe+nxovXRBAXrpJDAIrEEC+nxov3SQQQPp+arx0ExBAQmDl0CLbD0BaZDvfT40NQFyPwvUoXAxA9ihcj8L1C0B7FK5H4XoLQG8Sg8DKoQlAtMh2vp8aCUCJQWDl0CIDQFg5tMh2vv0/\"},\"shape\":[123],\"dtype\":\"float64\",\"order\":\"little\"}]]}}},\"view\":{\"type\":\"object\",\"name\":\"CDSView\",\"id\":\"p1312\",\"attributes\":{\"filter\":{\"type\":\"object\",\"name\":\"AllIndices\",\"id\":\"p1313\"}}},\"glyph\":{\"type\":\"object\",\"name\":\"Scatter\",\"id\":\"p1308\",\"attributes\":{\"tags\":[\"apply_ranges\"],\"x\":{\"type\":\"field\",\"field\":\"logged_GPD_per_capita\"},\"y\":{\"type\":\"field\",\"field\":\"ladder_score\"},\"size\":{\"type\":\"value\",\"value\":5.477225575051661},\"line_color\":{\"type\":\"value\",\"value\":\"#30a2da\"},\"fill_color\":{\"type\":\"value\",\"value\":\"#30a2da\"},\"hatch_color\":{\"type\":\"value\",\"value\":\"#30a2da\"}}},\"selection_glyph\":{\"type\":\"object\",\"name\":\"Scatter\",\"id\":\"p1314\",\"attributes\":{\"tags\":[\"apply_ranges\"],\"x\":{\"type\":\"field\",\"field\":\"logged_GPD_per_capita\"},\"y\":{\"type\":\"field\",\"field\":\"ladder_score\"},\"size\":{\"type\":\"value\",\"value\":5.477225575051661},\"angle\":{\"type\":\"value\",\"value\":0.0},\"line_color\":{\"type\":\"value\",\"value\":\"#30a2da\"},\"line_alpha\":{\"type\":\"value\",\"value\":1.0},\"line_width\":{\"type\":\"value\",\"value\":1},\"line_join\":{\"type\":\"value\",\"value\":\"bevel\"},\"line_cap\":{\"type\":\"value\",\"value\":\"butt\"},\"line_dash\":{\"type\":\"value\",\"value\":[]},\"line_dash_offset\":{\"type\":\"value\",\"value\":0},\"fill_color\":{\"type\":\"value\",\"value\":\"#30a2da\"},\"fill_alpha\":{\"type\":\"value\",\"value\":1.0},\"hatch_color\":{\"type\":\"value\",\"value\":\"#30a2da\"},\"hatch_alpha\":{\"type\":\"value\",\"value\":1.0},\"hatch_scale\":{\"type\":\"value\",\"value\":12.0},\"hatch_pattern\":{\"type\":\"value\",\"value\":null},\"hatch_weight\":{\"type\":\"value\",\"value\":1.0},\"marker\":{\"type\":\"value\",\"value\":\"circle\"}}},\"nonselection_glyph\":{\"type\":\"object\",\"name\":\"Scatter\",\"id\":\"p1309\",\"attributes\":{\"tags\":[\"apply_ranges\"],\"x\":{\"type\":\"field\",\"field\":\"logged_GPD_per_capita\"},\"y\":{\"type\":\"field\",\"field\":\"ladder_score\"},\"size\":{\"type\":\"value\",\"value\":5.477225575051661},\"line_color\":{\"type\":\"value\",\"value\":\"#30a2da\"},\"line_alpha\":{\"type\":\"value\",\"value\":0.1},\"fill_color\":{\"type\":\"value\",\"value\":\"#30a2da\"},\"fill_alpha\":{\"type\":\"value\",\"value\":0.1},\"hatch_color\":{\"type\":\"value\",\"value\":\"#30a2da\"},\"hatch_alpha\":{\"type\":\"value\",\"value\":0.1}}},\"muted_glyph\":{\"type\":\"object\",\"name\":\"Scatter\",\"id\":\"p1310\",\"attributes\":{\"tags\":[\"apply_ranges\"],\"x\":{\"type\":\"field\",\"field\":\"logged_GPD_per_capita\"},\"y\":{\"type\":\"field\",\"field\":\"ladder_score\"},\"size\":{\"type\":\"value\",\"value\":5.477225575051661},\"line_color\":{\"type\":\"value\",\"value\":\"#30a2da\"},\"line_alpha\":{\"type\":\"value\",\"value\":0.2},\"fill_color\":{\"type\":\"value\",\"value\":\"#30a2da\"},\"fill_alpha\":{\"type\":\"value\",\"value\":0.2},\"hatch_color\":{\"type\":\"value\",\"value\":\"#30a2da\"},\"hatch_alpha\":{\"type\":\"value\",\"value\":0.2}}}}},{\"type\":\"object\",\"name\":\"GlyphRenderer\",\"id\":\"p1324\",\"attributes\":{\"data_source\":{\"type\":\"object\",\"name\":\"ColumnDataSource\",\"id\":\"p1315\",\"attributes\":{\"selected\":{\"type\":\"object\",\"name\":\"Selection\",\"id\":\"p1316\",\"attributes\":{\"indices\":[],\"line_indices\":[]}},\"selection_policy\":{\"type\":\"object\",\"name\":\"UnionRenderers\",\"id\":\"p1317\"},\"data\":{\"type\":\"map\",\"entries\":[[\"logged_GPD_per_capita\",{\"type\":\"ndarray\",\"array\":{\"type\":\"bytes\",\"data\":\"L90kBoGVJUAGgZVDi+wlQJhuEoPAyiVAukkMAitHJUD8qfHSTeIlQGq8dJMYxCVAkxgEVg4tJkCHFtnO91MmQFK4HoXrUSdAbef7qfFSJUA/NV66ScwlQDEIrBxapCVAsp3vp8aLJUDn+6nx0g0nQH9qvHSTGCZANV66SQzCJUDjpZvEILAlQJzEILByaCVAiUFg5dAiJUD0/dR46WYlQJMYBFYOLSVAgZVDi2znI0AhsHJoka0kQDEIrBxaJCdACtejcD1KJkBt5/up8RIkQNv5fmq8tCRArkfhehRuJUCiRbbz/RQlQBSuR+F6FCVA+FPjpZtEJUDufD81XjokQDMzMzMzsyNA30+Nl25SJUBcj8L1KJwkQA4tsp3v5yRAI9v5fmo8IUA9CtejcL0kQAisHFpkOyJAokW28/1UJEBoke18P7UjQEa28/3UOCVACKwcWmQ7JUA730+Nl64kQESLbOf7KSNAIbByaJEtIkBKDAIrh9YkQF66SQwC6yNAhetRuB5FIUBMN4lBYOUhQEoMAiuHViRAz/dT46XbJED6fmq8dJMkQESLbOf76SNAjZduEoOAI0BYObTIdr4iQEa28/3U+CBAc2iR7Xz/IkBg5dAi23kjQG3n+6nxkiJAhetRuB4FI0DHSzeJQaAjQBSuR+F6VCJAuB6F61H4IUDsUbgehWskQAisHFpkOyNAXrpJDAIrI0CsHFpkO58jQArXo3A9iiJA5/up8dLNIkBoke18P/UhQAaBlUOLLCRAUI2XbhKDIEB7FK5H4TojQNNNYhBYeSBAmpmZmZmZIkD8qfHSTSIjQIXrUbgexSJA2/l+arz0IkDP91PjpRsWQAaBlUOL7CFAmG4Sg8BKI0CF61G4HoUfQFTjpZvEoCJAbef7qfESI0DLoUW28/0gQMl2vp8abyBAEFg5tMh2HEAZBFYOLTIiQBkEVg4t8iFAuB6F61E4I0CPwvUoXE8gQDvfT42XLiFAXrpJDAKrHkDLoUW28z0iQP7UeOkmMSFAFK5H4XoUIUB3vp8aL10cQLByaJHtfCJA0SLb+X7qIEAIrBxaZPsiQHe+nxov3R5AJQaBlUMLHUCF61G4HsUgQNv5fmq8NCBAH4XrUbheIUAfhetRuJ4eQJZDi2znuyJA/tR46SaxHkDD9Shcj0IiQNv5fmq89B5Az/dT46UbHUD4U+Olm4QhQClcj8L1KB1A2c73U+MlIEAhsHJokW0fQGZmZmZmJiBAaJHtfD81HUA1XrpJDEIjQKrx0k1ikB5A+n5qvHSTHUDb+X5qvPQiQLKd76fGSx1A\"},\"shape\":[123],\"dtype\":\"float64\",\"order\":\"little\"}],[\"ladder_score_predicted\",{\"type\":\"ndarray\",\"array\":{\"type\":\"bytes\",\"data\":\"et2xWtpXGkCYd3Npa9waQNxTLtnzqBpAKjmdAIvgGUCGdCDR0swaQA7FXqnQnhpAjqSxwqw+G0DUSSCf8HkbQKQvXvq4/BxAgkmWfHryGUAeYdS8SqsaQFYI9513bhpAKDSWYwlJGkBojpw4ApUcQGqeC5J7HxtADF6BJLKbGkCqGPAZZ4AaQCgDq+86ExpAqFRDSi2pGUDm9QQM5BAaQLxXluLFuBlAa1wTXdHIF0AUC8ATmvYYQJD7H+5RtxxAhKAEqB9rG0B7KXTkGQsYQKHzxuSEARlAct4L3c4bGkBQ3WxJH5QZQI6DNahXkxlAaHiI2qTcGUCCKBpiJUcYQIuZBSFHeRdAwO9e27LxGUB0H2aqFtwYQP4CZt5/TxlAD6mlRo+4E0Bw6XOZxg4ZQF9CUuTmPBVAs2NYIbJvGECPAOOlZXwXQBJoj161yhlA1iikhJvOGUCVvi5WKfgYQJKjE1tKqBZABst749gnFUBfFwx1/DQZQLHQlsVGzhdA3p5S+9DFE0DDW/8X5bkUQPZw/gQJchhA6Jg1wcg8GUCkKbn11M4YQDAdKIO3zBdA7+OdyBMsF0BOA6wbiAQWQJRhGyagURNABYohFpFnFkAjVc6Y8CEXQD82S5Q/whVATmWCAyVwFkCqoAXUbFwXQExw6r8cYxVApFT/ZL/WFEDc0NvWAZIYQDGPbcTNwhZAE1eCndmpFkAn7ZaR3VoXQG5Ant/9tBVA6YcoAO0bFkAeOrOdEdIUQCixQ2EXMhhAPb5gTkWeEkBxNTYjBsIWQOsURVd0jxJAC8UaxGLMFUBEYdXol5wWQBqSe0urDhZAMC2X3DBXFkAW6aluX5wEQE9EBunPxBRAzhPqqDLaFkDe6hSFEHkRQJitIZVN1xVAqNxYBDOFFkAd40RybFkTQNkR8r7bfxJAKh7Kx5ZKDkDP8m2O3S4VQJofZ9ZjzRRAq3Qh/R++FkAeVYqzgk8SQLUxz0WBoxNAVz0HYvfSEEAkA2cKzUAVQHry42tnpxNARVDIJ7x7E0B8lvpKmSMOQNYi/3+3oBVAeZANhMo7E0D8u2YMVGEWQEVrnz0t+RBAusp9aLssD0B1+ESL3QITQO4ZTPT1JhJAjSYieM7sE0BMCG/Tm8kQQIpCl/WhABZA3VdTKaXXEEDtKlm10UcVQJp7mLkcCxFA2AJpj69FD0BSGCISgyYUQHAgCO/1WQ9AE+8GsVgQEkCJ2hsJIWcRQNNIPlIgERJAhoo4DK1sD0D9HT308MwWQL8faAKxvhBAMg0B7Cj8D0AwLZfcMFcWQK73u8H8jg9A\"},\"shape\":[123],\"dtype\":\"float64\",\"order\":\"little\"}]]}}},\"view\":{\"type\":\"object\",\"name\":\"CDSView\",\"id\":\"p1325\",\"attributes\":{\"filter\":{\"type\":\"object\",\"name\":\"AllIndices\",\"id\":\"p1326\"}}},\"glyph\":{\"type\":\"object\",\"name\":\"Line\",\"id\":\"p1321\",\"attributes\":{\"tags\":[\"apply_ranges\"],\"x\":{\"type\":\"field\",\"field\":\"logged_GPD_per_capita\"},\"y\":{\"type\":\"field\",\"field\":\"ladder_score_predicted\"},\"line_color\":\"red\",\"line_width\":2}},\"selection_glyph\":{\"type\":\"object\",\"name\":\"Line\",\"id\":\"p1327\",\"attributes\":{\"tags\":[\"apply_ranges\"],\"x\":{\"type\":\"field\",\"field\":\"logged_GPD_per_capita\"},\"y\":{\"type\":\"field\",\"field\":\"ladder_score_predicted\"},\"line_color\":\"red\",\"line_width\":2}},\"nonselection_glyph\":{\"type\":\"object\",\"name\":\"Line\",\"id\":\"p1322\",\"attributes\":{\"tags\":[\"apply_ranges\"],\"x\":{\"type\":\"field\",\"field\":\"logged_GPD_per_capita\"},\"y\":{\"type\":\"field\",\"field\":\"ladder_score_predicted\"},\"line_color\":\"red\",\"line_alpha\":0.1,\"line_width\":2}},\"muted_glyph\":{\"type\":\"object\",\"name\":\"Line\",\"id\":\"p1323\",\"attributes\":{\"tags\":[\"apply_ranges\"],\"x\":{\"type\":\"field\",\"field\":\"logged_GPD_per_capita\"},\"y\":{\"type\":\"field\",\"field\":\"ladder_score_predicted\"},\"line_color\":\"red\",\"line_alpha\":0.2,\"line_width\":2}}}}],\"toolbar\":{\"type\":\"object\",\"name\":\"Toolbar\",\"id\":\"p1280\",\"attributes\":{\"tools\":[{\"type\":\"object\",\"name\":\"WheelZoomTool\",\"id\":\"p1266\",\"attributes\":{\"tags\":[\"hv_created\"],\"renderers\":\"auto\",\"zoom_together\":\"none\"}},{\"type\":\"object\",\"name\":\"HoverTool\",\"id\":\"p1267\",\"attributes\":{\"tags\":[\"hv_created\"],\"renderers\":[{\"id\":\"p1311\"}],\"tooltips\":[[\"logged_GPD_per_capita\",\"@{logged_GPD_per_capita}\"],[\"ladder_score\",\"@{ladder_score}\"]]}},{\"type\":\"object\",\"name\":\"HoverTool\",\"id\":\"p1270\",\"attributes\":{\"tags\":[\"hv_created\"],\"renderers\":[{\"id\":\"p1324\"}],\"tooltips\":[[\"logged_GPD_per_capita\",\"@{logged_GPD_per_capita}\"],[\"ladder_score_predicted\",\"@{ladder_score_predicted}\"]]}},{\"type\":\"object\",\"name\":\"SaveTool\",\"id\":\"p1293\"},{\"type\":\"object\",\"name\":\"PanTool\",\"id\":\"p1294\"},{\"type\":\"object\",\"name\":\"BoxZoomTool\",\"id\":\"p1295\",\"attributes\":{\"overlay\":{\"type\":\"object\",\"name\":\"BoxAnnotation\",\"id\":\"p1296\",\"attributes\":{\"syncable\":false,\"level\":\"overlay\",\"visible\":false,\"left\":{\"type\":\"number\",\"value\":\"nan\"},\"right\":{\"type\":\"number\",\"value\":\"nan\"},\"top\":{\"type\":\"number\",\"value\":\"nan\"},\"bottom\":{\"type\":\"number\",\"value\":\"nan\"},\"left_units\":\"canvas\",\"right_units\":\"canvas\",\"top_units\":\"canvas\",\"bottom_units\":\"canvas\",\"line_color\":\"black\",\"line_alpha\":1.0,\"line_width\":2,\"line_dash\":[4,4],\"fill_color\":\"lightgrey\",\"fill_alpha\":0.5}}}},{\"type\":\"object\",\"name\":\"ResetTool\",\"id\":\"p1301\"}],\"active_drag\":{\"id\":\"p1294\"},\"active_scroll\":{\"id\":\"p1266\"}}},\"left\":[{\"type\":\"object\",\"name\":\"LinearAxis\",\"id\":\"p1288\",\"attributes\":{\"ticker\":{\"type\":\"object\",\"name\":\"BasicTicker\",\"id\":\"p1289\",\"attributes\":{\"mantissas\":[1,2,5]}},\"formatter\":{\"type\":\"object\",\"name\":\"BasicTickFormatter\",\"id\":\"p1290\"},\"axis_label\":\"ladder_score\",\"major_label_policy\":{\"type\":\"object\",\"name\":\"AllLabels\",\"id\":\"p1291\"}}}],\"below\":[{\"type\":\"object\",\"name\":\"LinearAxis\",\"id\":\"p1283\",\"attributes\":{\"ticker\":{\"type\":\"object\",\"name\":\"BasicTicker\",\"id\":\"p1284\",\"attributes\":{\"mantissas\":[1,2,5]}},\"formatter\":{\"type\":\"object\",\"name\":\"BasicTickFormatter\",\"id\":\"p1285\"},\"axis_label\":\"logged_GPD_per_capita\",\"major_label_policy\":{\"type\":\"object\",\"name\":\"AllLabels\",\"id\":\"p1286\"}}}],\"center\":[{\"type\":\"object\",\"name\":\"Grid\",\"id\":\"p1287\",\"attributes\":{\"axis\":{\"id\":\"p1283\"},\"grid_line_color\":null}},{\"type\":\"object\",\"name\":\"Grid\",\"id\":\"p1292\",\"attributes\":{\"dimension\":1,\"axis\":{\"id\":\"p1288\"},\"grid_line_color\":null}}],\"min_border_top\":10,\"min_border_bottom\":10,\"min_border_left\":10,\"min_border_right\":10,\"output_backend\":\"webgl\"}},{\"type\":\"object\",\"name\":\"Spacer\",\"id\":\"p1329\",\"attributes\":{\"name\":\"HSpacer01359\",\"stylesheets\":[\"\\n:host(.pn-loading):before, .pn-loading:before {\\n  background-color: #c3c3c3;\\n  mask-size: auto calc(min(50%, 400px));\\n  -webkit-mask-size: auto calc(min(50%, 400px));\\n}\",{\"id\":\"p1259\"},{\"id\":\"p1257\"},{\"id\":\"p1258\"}],\"margin\":0,\"sizing_mode\":\"stretch_width\",\"align\":\"start\"}}]}}],\"defs\":[{\"type\":\"model\",\"name\":\"ReactiveHTML1\"},{\"type\":\"model\",\"name\":\"FlexBox1\",\"properties\":[{\"name\":\"align_content\",\"kind\":\"Any\",\"default\":\"flex-start\"},{\"name\":\"align_items\",\"kind\":\"Any\",\"default\":\"flex-start\"},{\"name\":\"flex_direction\",\"kind\":\"Any\",\"default\":\"row\"},{\"name\":\"flex_wrap\",\"kind\":\"Any\",\"default\":\"wrap\"},{\"name\":\"gap\",\"kind\":\"Any\",\"default\":\"\"},{\"name\":\"justify_content\",\"kind\":\"Any\",\"default\":\"flex-start\"}]},{\"type\":\"model\",\"name\":\"FloatPanel1\",\"properties\":[{\"name\":\"config\",\"kind\":\"Any\",\"default\":{\"type\":\"map\"}},{\"name\":\"contained\",\"kind\":\"Any\",\"default\":true},{\"name\":\"position\",\"kind\":\"Any\",\"default\":\"right-top\"},{\"name\":\"offsetx\",\"kind\":\"Any\",\"default\":null},{\"name\":\"offsety\",\"kind\":\"Any\",\"default\":null},{\"name\":\"theme\",\"kind\":\"Any\",\"default\":\"primary\"},{\"name\":\"status\",\"kind\":\"Any\",\"default\":\"normalized\"}]},{\"type\":\"model\",\"name\":\"GridStack1\",\"properties\":[{\"name\":\"mode\",\"kind\":\"Any\",\"default\":\"warn\"},{\"name\":\"ncols\",\"kind\":\"Any\",\"default\":null},{\"name\":\"nrows\",\"kind\":\"Any\",\"default\":null},{\"name\":\"allow_resize\",\"kind\":\"Any\",\"default\":true},{\"name\":\"allow_drag\",\"kind\":\"Any\",\"default\":true},{\"name\":\"state\",\"kind\":\"Any\",\"default\":[]}]},{\"type\":\"model\",\"name\":\"drag1\",\"properties\":[{\"name\":\"slider_width\",\"kind\":\"Any\",\"default\":5},{\"name\":\"slider_color\",\"kind\":\"Any\",\"default\":\"black\"},{\"name\":\"value\",\"kind\":\"Any\",\"default\":50}]},{\"type\":\"model\",\"name\":\"click1\",\"properties\":[{\"name\":\"terminal_output\",\"kind\":\"Any\",\"default\":\"\"},{\"name\":\"debug_name\",\"kind\":\"Any\",\"default\":\"\"},{\"name\":\"clears\",\"kind\":\"Any\",\"default\":0}]},{\"type\":\"model\",\"name\":\"FastWrapper1\",\"properties\":[{\"name\":\"object\",\"kind\":\"Any\",\"default\":null},{\"name\":\"style\",\"kind\":\"Any\",\"default\":null}]},{\"type\":\"model\",\"name\":\"NotificationAreaBase1\",\"properties\":[{\"name\":\"js_events\",\"kind\":\"Any\",\"default\":{\"type\":\"map\"}},{\"name\":\"position\",\"kind\":\"Any\",\"default\":\"bottom-right\"},{\"name\":\"_clear\",\"kind\":\"Any\",\"default\":0}]},{\"type\":\"model\",\"name\":\"NotificationArea1\",\"properties\":[{\"name\":\"js_events\",\"kind\":\"Any\",\"default\":{\"type\":\"map\"}},{\"name\":\"notifications\",\"kind\":\"Any\",\"default\":[]},{\"name\":\"position\",\"kind\":\"Any\",\"default\":\"bottom-right\"},{\"name\":\"_clear\",\"kind\":\"Any\",\"default\":0},{\"name\":\"types\",\"kind\":\"Any\",\"default\":[{\"type\":\"map\",\"entries\":[[\"type\",\"warning\"],[\"background\",\"#ffc107\"],[\"icon\",{\"type\":\"map\",\"entries\":[[\"className\",\"fas fa-exclamation-triangle\"],[\"tagName\",\"i\"],[\"color\",\"white\"]]}]]},{\"type\":\"map\",\"entries\":[[\"type\",\"info\"],[\"background\",\"#007bff\"],[\"icon\",{\"type\":\"map\",\"entries\":[[\"className\",\"fas fa-info-circle\"],[\"tagName\",\"i\"],[\"color\",\"white\"]]}]]}]}]},{\"type\":\"model\",\"name\":\"Notification\",\"properties\":[{\"name\":\"background\",\"kind\":\"Any\",\"default\":null},{\"name\":\"duration\",\"kind\":\"Any\",\"default\":3000},{\"name\":\"icon\",\"kind\":\"Any\",\"default\":null},{\"name\":\"message\",\"kind\":\"Any\",\"default\":\"\"},{\"name\":\"notification_type\",\"kind\":\"Any\",\"default\":null},{\"name\":\"_destroyed\",\"kind\":\"Any\",\"default\":false}]},{\"type\":\"model\",\"name\":\"TemplateActions1\",\"properties\":[{\"name\":\"open_modal\",\"kind\":\"Any\",\"default\":0},{\"name\":\"close_modal\",\"kind\":\"Any\",\"default\":0}]},{\"type\":\"model\",\"name\":\"BootstrapTemplateActions1\",\"properties\":[{\"name\":\"open_modal\",\"kind\":\"Any\",\"default\":0},{\"name\":\"close_modal\",\"kind\":\"Any\",\"default\":0}]},{\"type\":\"model\",\"name\":\"TemplateEditor1\",\"properties\":[{\"name\":\"layout\",\"kind\":\"Any\",\"default\":[]}]},{\"type\":\"model\",\"name\":\"MaterialTemplateActions1\",\"properties\":[{\"name\":\"open_modal\",\"kind\":\"Any\",\"default\":0},{\"name\":\"close_modal\",\"kind\":\"Any\",\"default\":0}]},{\"type\":\"model\",\"name\":\"copy_to_clipboard1\",\"properties\":[{\"name\":\"fill\",\"kind\":\"Any\",\"default\":\"none\"},{\"name\":\"value\",\"kind\":\"Any\",\"default\":null}]}]}};\n",
       "  var render_items = [{\"docid\":\"d7e94d6a-19fe-42cf-bec7-011300d9cab5\",\"roots\":{\"p1256\":\"d342d5c6-bd15-4e2f-bf69-48845f924bbb\"},\"root_ids\":[\"p1256\"]}];\n",
       "  var docs = Object.values(docs_json)\n",
       "  if (!docs) {\n",
       "    return\n",
       "  }\n",
       "  const py_version = docs[0].version.replace('rc', '-rc.').replace('.dev', '-dev.')\n",
       "  async function embed_document(root) {\n",
       "    var Bokeh = get_bokeh(root)\n",
       "    await Bokeh.embed.embed_items_notebook(docs_json, render_items);\n",
       "    for (const render_item of render_items) {\n",
       "      for (const root_id of render_item.root_ids) {\n",
       "\tconst id_el = document.getElementById(root_id)\n",
       "\tif (id_el.children.length && id_el.children[0].hasAttribute('data-root-id')) {\n",
       "\t  const root_el = id_el.children[0]\n",
       "\t  root_el.id = root_el.id + '-rendered'\n",
       "\t  for (const child of root_el.children) {\n",
       "            // Ensure JupyterLab does not capture keyboard shortcuts\n",
       "            // see: https://jupyterlab.readthedocs.io/en/4.1.x/extension/notebook.html#keyboard-interaction-model\n",
       "\t    child.setAttribute('data-lm-suppress-shortcuts', 'true')\n",
       "\t  }\n",
       "\t}\n",
       "      }\n",
       "    }\n",
       "  }\n",
       "  function get_bokeh(root) {\n",
       "    if (root.Bokeh === undefined) {\n",
       "      return null\n",
       "    } else if (root.Bokeh.version !== py_version) {\n",
       "      if (root.Bokeh.versions === undefined || !root.Bokeh.versions.has(py_version)) {\n",
       "\treturn null\n",
       "      }\n",
       "      return root.Bokeh.versions.get(py_version);\n",
       "    } else if (root.Bokeh.version === py_version) {\n",
       "      return root.Bokeh\n",
       "    }\n",
       "    return null\n",
       "  }\n",
       "  function is_loaded(root) {\n",
       "    var Bokeh = get_bokeh(root)\n",
       "    return (Bokeh != null && Bokeh.Panel !== undefined)\n",
       "  }\n",
       "  if (is_loaded(root)) {\n",
       "    embed_document(root);\n",
       "  } else {\n",
       "    var attempts = 0;\n",
       "    var timer = setInterval(function(root) {\n",
       "      if (is_loaded(root)) {\n",
       "        clearInterval(timer);\n",
       "        embed_document(root);\n",
       "      } else if (document.readyState == \"complete\") {\n",
       "        attempts++;\n",
       "        if (attempts > 200) {\n",
       "          clearInterval(timer);\n",
       "\t  var Bokeh = get_bokeh(root)\n",
       "\t  if (Bokeh == null || Bokeh.Panel == null) {\n",
       "            console.warn(\"Panel: ERROR: Unable to run Panel code because Bokeh or Panel library is missing\");\n",
       "\t  } else {\n",
       "\t    console.warn(\"Panel: WARNING: Attempting to render but not all required libraries could be resolved.\")\n",
       "\t    embed_document(root)\n",
       "\t  }\n",
       "        }\n",
       "      }\n",
       "    }, 25, root)\n",
       "  }\n",
       "})(window);</script>"
      ],
      "text/plain": [
       ":Overlay\n",
       "   .Scatter.I :Scatter   [logged_GPD_per_capita]   (ladder_score)\n",
       "   .Curve.I   :Curve   [logged_GPD_per_capita]   (ladder_score_predicted)"
      ]
     },
     "execution_count": 32,
     "metadata": {
      "application/vnd.holoviews_exec.v0+json": {
       "id": "p1256"
      }
     },
     "output_type": "execute_result"
    }
   ],
   "source": [
    "gdp_plot * best_fit_line"
   ]
  },
  {
   "cell_type": "code",
   "execution_count": 33,
   "metadata": {},
   "outputs": [
    {
     "name": "stdout",
     "output_type": "stream",
     "text": [
      "The score is 0.6249707348153062.\n",
      "The r2 is 0.6249707348153062.\n",
      "The mean squared error is 0.49570923968157665.\n",
      "The root mean squared error is 0.7040662182505113.\n",
      "The standard deviation is 1.1496904595668735.\n"
     ]
    }
   ],
   "source": [
    "# Import relevant metrics from scikit-learn\n",
    "from sklearn.metrics import mean_squared_error, r2_score\n",
    "\n",
    "# Compute metrics for the linear regression model: score, r2, mse, rmse, std\n",
    "score = model.score(X, y, sample_weight=None)\n",
    "r2 = r2_score(y, predicted_y_values)\n",
    "mse = mean_squared_error(y, predicted_y_values)\n",
    "rmse = np.sqrt(mse)\n",
    "std = np.std(y)\n",
    "\n",
    "# Print relevant metrics.\n",
    "print(f\"The score is {score}.\")\n",
    "print(f\"The r2 is {r2}.\")\n",
    "print(f\"The mean squared error is {mse}.\")\n",
    "print(f\"The root mean squared error is {rmse}.\")\n",
    "print(f\"The standard deviation is {std}.\")"
   ]
  }
 ],
 "metadata": {
  "kernelspec": {
   "display_name": "inclassfeb2024",
   "language": "python",
   "name": "python3"
  },
  "language_info": {
   "codemirror_mode": {
    "name": "ipython",
    "version": 3
   },
   "file_extension": ".py",
   "mimetype": "text/x-python",
   "name": "python",
   "nbconvert_exporter": "python",
   "pygments_lexer": "ipython3",
   "version": "3.10.0"
  }
 },
 "nbformat": 4,
 "nbformat_minor": 2
}
