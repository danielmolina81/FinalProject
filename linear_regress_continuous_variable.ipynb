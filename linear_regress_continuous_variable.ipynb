{
 "cells": [
  {
   "cell_type": "code",
   "execution_count": 30,
   "metadata": {},
   "outputs": [],
   "source": [
    "#Import libraries\n",
    "from pathlib import Path\n",
    "from sqlalchemy import create_engine\n",
    "import pandas as pd \n",
    "import numpy as np\n",
    "import matplotlib.pyplot as plt \n",
    "import sklearn.model_selection\n",
    "from sklearn.model_selection import train_test_split\n",
    "from sklearn.linear_model import LinearRegression\n",
    "from sklearn import metrics"
   ]
  },
  {
   "cell_type": "code",
   "execution_count": 31,
   "metadata": {},
   "outputs": [],
   "source": [
    "# Create SQLite connection\n",
    "happiness_path = Path('Resources/HappinessIndexScore.sqlite')\n",
    "engine = create_engine(f'sqlite:///{happiness_path}')\n",
    "conn = engine.connect()"
   ]
  },
  {
   "cell_type": "code",
   "execution_count": 32,
   "metadata": {},
   "outputs": [
    {
     "data": {
      "text/html": [
       "<div>\n",
       "<style scoped>\n",
       "    .dataframe tbody tr th:only-of-type {\n",
       "        vertical-align: middle;\n",
       "    }\n",
       "\n",
       "    .dataframe tbody tr th {\n",
       "        vertical-align: top;\n",
       "    }\n",
       "\n",
       "    .dataframe thead th {\n",
       "        text-align: right;\n",
       "    }\n",
       "</style>\n",
       "<table border=\"1\" class=\"dataframe\">\n",
       "  <thead>\n",
       "    <tr style=\"text-align: right;\">\n",
       "      <th></th>\n",
       "      <th>country</th>\n",
       "      <th>region</th>\n",
       "      <th>ladder_score</th>\n",
       "      <th>logged_GPD_per_capita</th>\n",
       "      <th>social_support</th>\n",
       "      <th>healthy_life_expectancy</th>\n",
       "      <th>freedom_life_choices</th>\n",
       "      <th>generosity</th>\n",
       "      <th>perceptions_corruption</th>\n",
       "      <th>population_density</th>\n",
       "      <th>unemployment_rate</th>\n",
       "      <th>median_age</th>\n",
       "      <th>gini_coefficient</th>\n",
       "      <th>avg_temperature</th>\n",
       "      <th>lt_alcohol_per_capita</th>\n",
       "    </tr>\n",
       "  </thead>\n",
       "  <tbody>\n",
       "    <tr>\n",
       "      <th>0</th>\n",
       "      <td>Finland</td>\n",
       "      <td>Europe</td>\n",
       "      <td>7.804</td>\n",
       "      <td>10.792</td>\n",
       "      <td>0.969</td>\n",
       "      <td>71.150</td>\n",
       "      <td>0.961</td>\n",
       "      <td>-0.019</td>\n",
       "      <td>0.182</td>\n",
       "      <td>16.60</td>\n",
       "      <td>7.16</td>\n",
       "      <td>43.2</td>\n",
       "      <td>27.7</td>\n",
       "      <td>3.24</td>\n",
       "      <td>8.23</td>\n",
       "    </tr>\n",
       "    <tr>\n",
       "      <th>1</th>\n",
       "      <td>Denmark</td>\n",
       "      <td>Europe</td>\n",
       "      <td>7.586</td>\n",
       "      <td>10.962</td>\n",
       "      <td>0.954</td>\n",
       "      <td>71.250</td>\n",
       "      <td>0.934</td>\n",
       "      <td>0.134</td>\n",
       "      <td>0.196</td>\n",
       "      <td>138.00</td>\n",
       "      <td>5.14</td>\n",
       "      <td>42.2</td>\n",
       "      <td>27.7</td>\n",
       "      <td>9.77</td>\n",
       "      <td>9.16</td>\n",
       "    </tr>\n",
       "    <tr>\n",
       "      <th>2</th>\n",
       "      <td>Iceland</td>\n",
       "      <td>Europe</td>\n",
       "      <td>7.530</td>\n",
       "      <td>10.896</td>\n",
       "      <td>0.983</td>\n",
       "      <td>72.050</td>\n",
       "      <td>0.936</td>\n",
       "      <td>0.211</td>\n",
       "      <td>0.668</td>\n",
       "      <td>3.50</td>\n",
       "      <td>3.56</td>\n",
       "      <td>37.8</td>\n",
       "      <td>26.1</td>\n",
       "      <td>2.11</td>\n",
       "      <td>7.72</td>\n",
       "    </tr>\n",
       "    <tr>\n",
       "      <th>3</th>\n",
       "      <td>Israel</td>\n",
       "      <td>Middle East</td>\n",
       "      <td>7.473</td>\n",
       "      <td>10.639</td>\n",
       "      <td>0.943</td>\n",
       "      <td>72.697</td>\n",
       "      <td>0.809</td>\n",
       "      <td>-0.023</td>\n",
       "      <td>0.708</td>\n",
       "      <td>412.24</td>\n",
       "      <td>3.39</td>\n",
       "      <td>30.1</td>\n",
       "      <td>38.6</td>\n",
       "      <td>20.23</td>\n",
       "      <td>3.07</td>\n",
       "    </tr>\n",
       "    <tr>\n",
       "      <th>4</th>\n",
       "      <td>Netherlands</td>\n",
       "      <td>Europe</td>\n",
       "      <td>7.403</td>\n",
       "      <td>10.942</td>\n",
       "      <td>0.930</td>\n",
       "      <td>71.550</td>\n",
       "      <td>0.887</td>\n",
       "      <td>0.213</td>\n",
       "      <td>0.379</td>\n",
       "      <td>420.38</td>\n",
       "      <td>3.56</td>\n",
       "      <td>42.2</td>\n",
       "      <td>29.2</td>\n",
       "      <td>11.72</td>\n",
       "      <td>8.23</td>\n",
       "    </tr>\n",
       "  </tbody>\n",
       "</table>\n",
       "</div>"
      ],
      "text/plain": [
       "       country       region  ladder_score  logged_GPD_per_capita  \\\n",
       "0      Finland       Europe         7.804                 10.792   \n",
       "1      Denmark       Europe         7.586                 10.962   \n",
       "2      Iceland       Europe         7.530                 10.896   \n",
       "3       Israel  Middle East         7.473                 10.639   \n",
       "4  Netherlands       Europe         7.403                 10.942   \n",
       "\n",
       "   social_support  healthy_life_expectancy  freedom_life_choices  generosity  \\\n",
       "0           0.969                   71.150                 0.961      -0.019   \n",
       "1           0.954                   71.250                 0.934       0.134   \n",
       "2           0.983                   72.050                 0.936       0.211   \n",
       "3           0.943                   72.697                 0.809      -0.023   \n",
       "4           0.930                   71.550                 0.887       0.213   \n",
       "\n",
       "   perceptions_corruption  population_density  unemployment_rate  median_age  \\\n",
       "0                   0.182               16.60               7.16        43.2   \n",
       "1                   0.196              138.00               5.14        42.2   \n",
       "2                   0.668                3.50               3.56        37.8   \n",
       "3                   0.708              412.24               3.39        30.1   \n",
       "4                   0.379              420.38               3.56        42.2   \n",
       "\n",
       "   gini_coefficient  avg_temperature  lt_alcohol_per_capita  \n",
       "0              27.7             3.24                   8.23  \n",
       "1              27.7             9.77                   9.16  \n",
       "2              26.1             2.11                   7.72  \n",
       "3              38.6            20.23                   3.07  \n",
       "4              29.2            11.72                   8.23  "
      ]
     },
     "execution_count": 32,
     "metadata": {},
     "output_type": "execute_result"
    }
   ],
   "source": [
    "# Create df\n",
    "happiness_df = pd.read_sql('SELECT * FROM final_output', con=engine)\n",
    "\n",
    "happiness_df.head()"
   ]
  },
  {
   "cell_type": "code",
   "execution_count": 33,
   "metadata": {},
   "outputs": [],
   "source": [
    "# Drop unnecesary columns\n",
    "happiness_df.drop(['country', 'region'], inplace= True, axis= 1)"
   ]
  },
  {
   "cell_type": "code",
   "execution_count": 34,
   "metadata": {},
   "outputs": [],
   "source": [
    "# Define features set\n",
    "X = happiness_df.copy()"
   ]
  },
  {
   "cell_type": "code",
   "execution_count": 35,
   "metadata": {},
   "outputs": [
    {
     "name": "stderr",
     "output_type": "stream",
     "text": [
      "C:\\Users\\roala\\AppData\\Local\\Temp\\ipykernel_26348\\3483704943.py:2: FutureWarning: Series.ravel is deprecated. The underlying array is already 1D, so ravel is not necessary.  Use `to_numpy()` for conversion to a numpy array instead.\n",
      "  y = happiness_df[\"ladder_score\"].ravel()\n"
     ]
    }
   ],
   "source": [
    "# Define target vector\n",
    "y = happiness_df[\"ladder_score\"].ravel()"
   ]
  },
  {
   "cell_type": "code",
   "execution_count": 49,
   "metadata": {},
   "outputs": [],
   "source": [
    "#Splitting into Train and Test sets\n",
    "x_train, x_test, y_train, y_test = train_test_split(X,y, random_state=48)"
   ]
  },
  {
   "cell_type": "code",
   "execution_count": 50,
   "metadata": {},
   "outputs": [],
   "source": [
    "lm = LinearRegression()"
   ]
  },
  {
   "cell_type": "code",
   "execution_count": 51,
   "metadata": {},
   "outputs": [
    {
     "data": {
      "text/html": [
       "<style>#sk-container-id-3 {color: black;}#sk-container-id-3 pre{padding: 0;}#sk-container-id-3 div.sk-toggleable {background-color: white;}#sk-container-id-3 label.sk-toggleable__label {cursor: pointer;display: block;width: 100%;margin-bottom: 0;padding: 0.3em;box-sizing: border-box;text-align: center;}#sk-container-id-3 label.sk-toggleable__label-arrow:before {content: \"▸\";float: left;margin-right: 0.25em;color: #696969;}#sk-container-id-3 label.sk-toggleable__label-arrow:hover:before {color: black;}#sk-container-id-3 div.sk-estimator:hover label.sk-toggleable__label-arrow:before {color: black;}#sk-container-id-3 div.sk-toggleable__content {max-height: 0;max-width: 0;overflow: hidden;text-align: left;background-color: #f0f8ff;}#sk-container-id-3 div.sk-toggleable__content pre {margin: 0.2em;color: black;border-radius: 0.25em;background-color: #f0f8ff;}#sk-container-id-3 input.sk-toggleable__control:checked~div.sk-toggleable__content {max-height: 200px;max-width: 100%;overflow: auto;}#sk-container-id-3 input.sk-toggleable__control:checked~label.sk-toggleable__label-arrow:before {content: \"▾\";}#sk-container-id-3 div.sk-estimator input.sk-toggleable__control:checked~label.sk-toggleable__label {background-color: #d4ebff;}#sk-container-id-3 div.sk-label input.sk-toggleable__control:checked~label.sk-toggleable__label {background-color: #d4ebff;}#sk-container-id-3 input.sk-hidden--visually {border: 0;clip: rect(1px 1px 1px 1px);clip: rect(1px, 1px, 1px, 1px);height: 1px;margin: -1px;overflow: hidden;padding: 0;position: absolute;width: 1px;}#sk-container-id-3 div.sk-estimator {font-family: monospace;background-color: #f0f8ff;border: 1px dotted black;border-radius: 0.25em;box-sizing: border-box;margin-bottom: 0.5em;}#sk-container-id-3 div.sk-estimator:hover {background-color: #d4ebff;}#sk-container-id-3 div.sk-parallel-item::after {content: \"\";width: 100%;border-bottom: 1px solid gray;flex-grow: 1;}#sk-container-id-3 div.sk-label:hover label.sk-toggleable__label {background-color: #d4ebff;}#sk-container-id-3 div.sk-serial::before {content: \"\";position: absolute;border-left: 1px solid gray;box-sizing: border-box;top: 0;bottom: 0;left: 50%;z-index: 0;}#sk-container-id-3 div.sk-serial {display: flex;flex-direction: column;align-items: center;background-color: white;padding-right: 0.2em;padding-left: 0.2em;position: relative;}#sk-container-id-3 div.sk-item {position: relative;z-index: 1;}#sk-container-id-3 div.sk-parallel {display: flex;align-items: stretch;justify-content: center;background-color: white;position: relative;}#sk-container-id-3 div.sk-item::before, #sk-container-id-3 div.sk-parallel-item::before {content: \"\";position: absolute;border-left: 1px solid gray;box-sizing: border-box;top: 0;bottom: 0;left: 50%;z-index: -1;}#sk-container-id-3 div.sk-parallel-item {display: flex;flex-direction: column;z-index: 1;position: relative;background-color: white;}#sk-container-id-3 div.sk-parallel-item:first-child::after {align-self: flex-end;width: 50%;}#sk-container-id-3 div.sk-parallel-item:last-child::after {align-self: flex-start;width: 50%;}#sk-container-id-3 div.sk-parallel-item:only-child::after {width: 0;}#sk-container-id-3 div.sk-dashed-wrapped {border: 1px dashed gray;margin: 0 0.4em 0.5em 0.4em;box-sizing: border-box;padding-bottom: 0.4em;background-color: white;}#sk-container-id-3 div.sk-label label {font-family: monospace;font-weight: bold;display: inline-block;line-height: 1.2em;}#sk-container-id-3 div.sk-label-container {text-align: center;}#sk-container-id-3 div.sk-container {/* jupyter's `normalize.less` sets `[hidden] { display: none; }` but bootstrap.min.css set `[hidden] { display: none !important; }` so we also need the `!important` here to be able to override the default hidden behavior on the sphinx rendered scikit-learn.org. See: https://github.com/scikit-learn/scikit-learn/issues/21755 */display: inline-block !important;position: relative;}#sk-container-id-3 div.sk-text-repr-fallback {display: none;}</style><div id=\"sk-container-id-3\" class=\"sk-top-container\"><div class=\"sk-text-repr-fallback\"><pre>LinearRegression()</pre><b>In a Jupyter environment, please rerun this cell to show the HTML representation or trust the notebook. <br />On GitHub, the HTML representation is unable to render, please try loading this page with nbviewer.org.</b></div><div class=\"sk-container\" hidden><div class=\"sk-item\"><div class=\"sk-estimator sk-toggleable\"><input class=\"sk-toggleable__control sk-hidden--visually\" id=\"sk-estimator-id-3\" type=\"checkbox\" checked><label for=\"sk-estimator-id-3\" class=\"sk-toggleable__label sk-toggleable__label-arrow\">LinearRegression</label><div class=\"sk-toggleable__content\"><pre>LinearRegression()</pre></div></div></div></div></div>"
      ],
      "text/plain": [
       "LinearRegression()"
      ]
     },
     "execution_count": 51,
     "metadata": {},
     "output_type": "execute_result"
    }
   ],
   "source": [
    "# train the linear regression model\n",
    "lm.fit(x_train, y_train)"
   ]
  },
  {
   "cell_type": "markdown",
   "metadata": {},
   "source": [
    "## Evaluate our model"
   ]
  },
  {
   "cell_type": "code",
   "execution_count": 52,
   "metadata": {},
   "outputs": [
    {
     "name": "stdout",
     "output_type": "stream",
     "text": [
      "-1.509903313490213e-14\n"
     ]
    }
   ],
   "source": [
    "#Print the intercept\n",
    "print(lm.intercept_)"
   ]
  },
  {
   "cell_type": "code",
   "execution_count": 62,
   "metadata": {},
   "outputs": [
    {
     "name": "stdout",
     "output_type": "stream",
     "text": [
      "[ 1.00000000e+00 -9.27796895e-17 -5.36850696e-16  1.07513765e-16\n",
      " -8.46087601e-18  6.95694624e-16  2.13397219e-16 -2.71895269e-17\n",
      "  8.01723728e-17  1.00194887e-17  7.62714898e-17  3.32938901e-16\n",
      " -4.39025896e-17]\n"
     ]
    },
    {
     "data": {
      "text/html": [
       "<div>\n",
       "<style scoped>\n",
       "    .dataframe tbody tr th:only-of-type {\n",
       "        vertical-align: middle;\n",
       "    }\n",
       "\n",
       "    .dataframe tbody tr th {\n",
       "        vertical-align: top;\n",
       "    }\n",
       "\n",
       "    .dataframe thead th {\n",
       "        text-align: right;\n",
       "    }\n",
       "</style>\n",
       "<table border=\"1\" class=\"dataframe\">\n",
       "  <thead>\n",
       "    <tr style=\"text-align: right;\">\n",
       "      <th></th>\n",
       "      <th>Coeff</th>\n",
       "    </tr>\n",
       "  </thead>\n",
       "  <tbody>\n",
       "    <tr>\n",
       "      <th>ladder_score</th>\n",
       "      <td>1.000000e+00</td>\n",
       "    </tr>\n",
       "    <tr>\n",
       "      <th>logged_GPD_per_capita</th>\n",
       "      <td>-9.277969e-17</td>\n",
       "    </tr>\n",
       "    <tr>\n",
       "      <th>social_support</th>\n",
       "      <td>-5.368507e-16</td>\n",
       "    </tr>\n",
       "    <tr>\n",
       "      <th>healthy_life_expectancy</th>\n",
       "      <td>1.075138e-16</td>\n",
       "    </tr>\n",
       "    <tr>\n",
       "      <th>freedom_life_choices</th>\n",
       "      <td>-8.460876e-18</td>\n",
       "    </tr>\n",
       "    <tr>\n",
       "      <th>generosity</th>\n",
       "      <td>6.956946e-16</td>\n",
       "    </tr>\n",
       "    <tr>\n",
       "      <th>perceptions_corruption</th>\n",
       "      <td>2.133972e-16</td>\n",
       "    </tr>\n",
       "    <tr>\n",
       "      <th>population_density</th>\n",
       "      <td>-2.718953e-17</td>\n",
       "    </tr>\n",
       "    <tr>\n",
       "      <th>unemployment_rate</th>\n",
       "      <td>8.017237e-17</td>\n",
       "    </tr>\n",
       "    <tr>\n",
       "      <th>median_age</th>\n",
       "      <td>1.001949e-17</td>\n",
       "    </tr>\n",
       "    <tr>\n",
       "      <th>gini_coefficient</th>\n",
       "      <td>7.627149e-17</td>\n",
       "    </tr>\n",
       "    <tr>\n",
       "      <th>avg_temperature</th>\n",
       "      <td>3.329389e-16</td>\n",
       "    </tr>\n",
       "    <tr>\n",
       "      <th>lt_alcohol_per_capita</th>\n",
       "      <td>-4.390259e-17</td>\n",
       "    </tr>\n",
       "  </tbody>\n",
       "</table>\n",
       "</div>"
      ],
      "text/plain": [
       "                                Coeff\n",
       "ladder_score             1.000000e+00\n",
       "logged_GPD_per_capita   -9.277969e-17\n",
       "social_support          -5.368507e-16\n",
       "healthy_life_expectancy  1.075138e-16\n",
       "freedom_life_choices    -8.460876e-18\n",
       "generosity               6.956946e-16\n",
       "perceptions_corruption   2.133972e-16\n",
       "population_density      -2.718953e-17\n",
       "unemployment_rate        8.017237e-17\n",
       "median_age               1.001949e-17\n",
       "gini_coefficient         7.627149e-17\n",
       "avg_temperature          3.329389e-16\n",
       "lt_alcohol_per_capita   -4.390259e-17"
      ]
     },
     "execution_count": 62,
     "metadata": {},
     "output_type": "execute_result"
    }
   ],
   "source": [
    "#Print the coefficient. Positive coeff means value of independent variable increases. \n",
    "# A negative coeff suggests that as the independent variable increases, the dependent variable tend to decrease\n",
    "#Source: https://statisticsbyjim.com/regression/interpret-coefficients-p-values-regression/\n",
    "print(lm.coef_)\n",
    "cdf = pd.DataFrame(lm.coef_, X.columns, columns=['Coeff'])\n",
    "cdf"
   ]
  },
  {
   "cell_type": "code",
   "execution_count": 55,
   "metadata": {},
   "outputs": [
    {
     "data": {
      "text/plain": [
       "array([4.941, 6.65 , 5.931, 6.144, 6.13 , 3.982, 5.211, 4.042, 5.36 ,\n",
       "       2.392, 4.282, 4.876, 3.204, 4.432, 4.374, 5.33 , 1.859, 5.84 ,\n",
       "       5.071, 7.395, 7.228, 4.487, 5.072, 4.198, 6.571, 6.3  , 5.703,\n",
       "       4.605, 4.12 , 7.123, 6.259])"
      ]
     },
     "execution_count": 55,
     "metadata": {},
     "output_type": "execute_result"
    }
   ],
   "source": [
    "predictions = lm.predict(x_test)\n",
    "predictions"
   ]
  },
  {
   "cell_type": "code",
   "execution_count": 56,
   "metadata": {},
   "outputs": [
    {
     "data": {
      "text/plain": [
       "<matplotlib.collections.PathCollection at 0x150b4bd7950>"
      ]
     },
     "execution_count": 56,
     "metadata": {},
     "output_type": "execute_result"
    },
    {
     "data": {
      "image/png": "[encoded data removed]",
      "text/plain": [
       "<Figure size 640x480 with 1 Axes>"
      ]
     },
     "metadata": {},
     "output_type": "display_data"
    }
   ],
   "source": [
    "plt.scatter(y_test, predictions)"
   ]
  },
  {
   "cell_type": "code",
   "execution_count": 57,
   "metadata": {},
   "outputs": [
    {
     "data": {
      "text/plain": [
       "4.906469495924079e-15"
      ]
     },
     "execution_count": 57,
     "metadata": {},
     "output_type": "execute_result"
    }
   ],
   "source": [
    "#Regression evaluation matrix \n",
    "metrics.mean_absolute_error(y_test, predictions)"
   ]
  },
  {
   "cell_type": "code",
   "execution_count": 58,
   "metadata": {},
   "outputs": [
    {
     "data": {
      "text/plain": [
       "7.104360438572052e-29"
      ]
     },
     "execution_count": 58,
     "metadata": {},
     "output_type": "execute_result"
    }
   ],
   "source": [
    "metrics.mean_squared_error(y_test, predictions)"
   ]
  },
  {
   "cell_type": "code",
   "execution_count": 59,
   "metadata": {},
   "outputs": [
    {
     "data": {
      "text/plain": [
       "8.428736820290483e-15"
      ]
     },
     "execution_count": 59,
     "metadata": {},
     "output_type": "execute_result"
    }
   ],
   "source": [
    "np.sqrt(metrics.mean_squared_error(y_test, predictions))"
   ]
  },
  {
   "cell_type": "code",
   "execution_count": null,
   "metadata": {},
   "outputs": [],
   "source": [
    "#Source: https://github.com/vivek2319/Linear-Regression-Prediction/blob/master/Linear_Regression_Scikit_learn.py"
   ]
  }
 ],
 "metadata": {
  "kernelspec": {
   "display_name": "class_Feb_2024",
   "language": "python",
   "name": "python3"
  },
  "language_info": {
   "codemirror_mode": {
    "name": "ipython",
    "version": 3
   },
   "file_extension": ".py",
   "mimetype": "text/x-python",
   "name": "python",
   "nbconvert_exporter": "python",
   "pygments_lexer": "ipython3",
   "version": "3.11.8"
  }
 },
 "nbformat": 4,
 "nbformat_minor": 2
}
